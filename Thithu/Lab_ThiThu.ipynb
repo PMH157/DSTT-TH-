{
  "nbformat": 4,
  "nbformat_minor": 0,
  "metadata": {
    "colab": {
      "provenance": []
    },
    "kernelspec": {
      "name": "python3",
      "display_name": "Python 3"
    },
    "language_info": {
      "name": "python"
    }
  },
  "cells": [
    {
      "cell_type": "markdown",
      "source": [
        "# **Câu 1: Phép toán cơ bản trên vector và ma trận**"
      ],
      "metadata": {
        "id": "KTmhW748rCtj"
      }
    },
    {
      "cell_type": "code",
      "source": [
        "from sympy import *\n",
        "import numpy as np\n",
        "\n",
        "# a)\n",
        "A = Matrix([2, -1, 3, 0])\n",
        "B = Matrix([1, 4, -2, 5])\n",
        "\n",
        "sum_AB = A + B\n",
        "linear_comb = 3*A - 2*B\n",
        "\n",
        "print(\"1a) Tổng A + B:\", sum_AB.T)\n",
        "print(\"   3A - 2B:\", linear_comb.T)\n",
        "\n",
        "# b)\n",
        "dot_product = A.dot(B)\n",
        "magnitude_A = sqrt(A.dot(A))\n",
        "magnitude_B = sqrt(B.dot(B))\n",
        "angle_rad = acos(dot_product / (magnitude_A * magnitude_B))\n",
        "angle_deg = angle_rad * 180 / pi.evalf()\n",
        "\n",
        "print(\"\\n1b) Tích vô hướng A.B:\", dot_product)\n",
        "print(\"   Góc giữa A và B (độ):\", angle_deg.evalf(4))\n",
        "\n",
        "# c)\n",
        "C = Matrix([[1, 2, -1], [0, 3, 4], [2, -1, 0]])\n",
        "CtC = C.T * C\n",
        "\n",
        "print(\"\\n1c) C^T * C:\")\n",
        "pprint(CtC)"
      ],
      "metadata": {
        "id": "19LjziW4qQch"
      },
      "execution_count": null,
      "outputs": []
    },
    {
      "cell_type": "markdown",
      "source": [
        "# **Câu 2: Nhân ma trận, định thức và hạng ma trận**"
      ],
      "metadata": {
        "id": "M321-zo6rLdm"
      }
    },
    {
      "cell_type": "code",
      "source": [
        "# a)\n",
        "M = Matrix([[1, 2, 3, 0], [4, 5, 6, 1], [7, 8, 9, 2], [0, 1, 1, 0]])\n",
        "N = Matrix([[0, 1, 2, 3], [4, 5, 6, 7], [8, 9, 10, 11], [12, 13, 14, 15]])\n",
        "\n",
        "MN = M * N\n",
        "print(\"\\n2a) M × N:\")\n",
        "pprint(MN)\n",
        "\n",
        "# b)\n",
        "try:\n",
        "    det_M = M.det()\n",
        "    print(\"\\n2b) Định thức của M:\", det_M)\n",
        "except:\n",
        "    print(\"\\n2b) Không thể tính định thức vì ma trận suy biến\")\n",
        "\n",
        "# c)\n",
        "rank_N = N.rank()\n",
        "print(\"\\n2c) Hạng của ma trận N:\", rank_N)"
      ],
      "metadata": {
        "id": "vJIVlxgDqQaX"
      },
      "execution_count": null,
      "outputs": []
    },
    {
      "cell_type": "markdown",
      "source": [
        "# **Câu 3: Nghịch đảo ma trận và giải hệ phương trình**"
      ],
      "metadata": {
        "id": "-PGY7cndrTQJ"
      }
    },
    {
      "cell_type": "code",
      "source": [
        "# a)\n",
        "P = Matrix([[2, 1, 0, 1], [0, 3, 1, -1], [1, 0, 4, 2], [0, 1, 0, 3]])\n",
        "\n",
        "try:\n",
        "    P_inv = P.inv()\n",
        "    print(\"\\n3a) Ma trận nghịch đảo của P:\")\n",
        "    pprint(P_inv)\n",
        "except:\n",
        "    print(\"\\n3a) Ma trận P không khả nghịch\")\n",
        "\n",
        "# b)\n",
        "b = Matrix([4, 7, 9, 5])\n",
        "solution = P_inv * b\n",
        "print(\"\\n3b) Nghiệm hệ phương trình:\")\n",
        "pprint(solution)\n",
        "\n",
        "# c)\n",
        "verification = P * solution\n",
        "print(\"\\n3c) Kiểm tra nghiệm (P*x):\")\n",
        "pprint(verification)\n",
        "print(\"   Vector hằng số b:\", b.T)"
      ],
      "metadata": {
        "id": "hs72-9iPqQYF"
      },
      "execution_count": null,
      "outputs": []
    },
    {
      "cell_type": "markdown",
      "source": [
        "# **Câu 4: Giá trị riêng, vector riêng và chuẩn hóa**"
      ],
      "metadata": {
        "id": "-3kaByU1rWch"
      }
    },
    {
      "cell_type": "code",
      "source": [
        "# a)\n",
        "Q = Matrix([[4, -1, 0], [1, 3, -2], [0, 1, 2]])\n",
        "eigenvals = Q.eigenvals()\n",
        "print(\"\\n4a) Giá trị riêng của Q:\")\n",
        "pprint(eigenvals)\n",
        "\n",
        "# b)\n",
        "eigenvects = Q.eigenvects()\n",
        "print(\"\\n4b) Vector riêng của Q:\")\n",
        "for vec in eigenvects:\n",
        "    print(f\"Giá trị riêng {vec[0]}:\")\n",
        "    for v in vec[2]:\n",
        "        pprint(v)\n",
        "\n",
        "# c)\n",
        "print(\"\\n4c) Vector riêng chuẩn hóa:\")\n",
        "for vec in eigenvects:\n",
        "    print(f\"Giá trị riêng {vec[0]}:\")\n",
        "    for v in vec[2]:\n",
        "        normalized = v / sqrt(v.dot(v))\n",
        "        pprint(normalized)"
      ],
      "metadata": {
        "id": "IwGjEzpeqQWG"
      },
      "execution_count": null,
      "outputs": []
    },
    {
      "cell_type": "markdown",
      "source": [
        "# **Câu 5: Ứng dụng thực tế**"
      ],
      "metadata": {
        "id": "MUxNaQBkro5M"
      }
    },
    {
      "cell_type": "code",
      "source": [
        "# a)\n",
        "R = Matrix([[1, -2, 3], [2, 0, 1], [-1, 1, 4]])\n",
        "b = Matrix([10, 8, 7])\n",
        "solution = R.LUsolve(b)\n",
        "print(\"\\n5a) Nghiệm hệ phương trình:\")\n",
        "pprint(solution)\n",
        "\n",
        "# b)\n",
        "try:\n",
        "    R_inv = R.inv()\n",
        "    print(\"\\n5b) Ma trận nghịch đảo của R:\")\n",
        "    pprint(R_inv)\n",
        "    solution_inv = R_inv * b\n",
        "    print(\"Nghiệm dùng ma trận nghịch đảo:\")\n",
        "    pprint(solution_inv)\n",
        "except:\n",
        "    print(\"\\n5b) Ma trận R không khả nghịch\")\n",
        "# c)\n",
        "frobenius_norm = sqrt(sum([e**2 for e in R]))\n",
        "print(\"\\n5c) Chuẩn Frobenius của R:\", frobenius_norm.evalf(4))"
      ],
      "metadata": {
        "id": "Bq5nPPcKqQTh"
      },
      "execution_count": null,
      "outputs": []
    }
  ]
}