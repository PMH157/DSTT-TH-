{
  "nbformat": 4,
  "nbformat_minor": 0,
  "metadata": {
    "colab": {
      "provenance": []
    },
    "kernelspec": {
      "name": "python3",
      "display_name": "Python 3"
    },
    "language_info": {
      "name": "python"
    }
  },
  "cells": [
    {
      "cell_type": "code",
      "execution_count": 1,
      "metadata": {
        "colab": {
          "base_uri": "https://localhost:8080/"
        },
        "id": "2Z42Pjx0cjF_",
        "outputId": "4021d318-f45b-4379-f4d1-6398bc4be4c7"
      },
      "outputs": [
        {
          "output_type": "stream",
          "name": "stdout",
          "text": [
            "32\n"
          ]
        }
      ],
      "source": [
        "import numpy as np\n",
        "a = np.array([1,2,3])\n",
        "b = np.array([4,5,6])\n",
        "tich = np.inner(a,b)\n",
        "print (tich)"
      ]
    },
    {
      "cell_type": "code",
      "source": [
        "np.dot(a,b)"
      ],
      "metadata": {
        "colab": {
          "base_uri": "https://localhost:8080/"
        },
        "id": "bB3gNcR2cu4p",
        "outputId": "159e61be-8ac4-4a24-eddd-a9a4970c906f"
      },
      "execution_count": 2,
      "outputs": [
        {
          "output_type": "execute_result",
          "data": {
            "text/plain": [
              "np.int64(32)"
            ]
          },
          "metadata": {},
          "execution_count": 2
        }
      ]
    },
    {
      "cell_type": "code",
      "source": [
        "import numpy as np\n",
        "a = np.array([1,2,-3])\n",
        "np.linalg.norm(a)\n",
        "np.linalg.norm(a, 2)\n"
      ],
      "metadata": {
        "colab": {
          "base_uri": "https://localhost:8080/"
        },
        "id": "167VomRycu1z",
        "outputId": "d5e35944-3235-4eed-e33a-2fe057541ad3"
      },
      "execution_count": 3,
      "outputs": [
        {
          "output_type": "execute_result",
          "data": {
            "text/plain": [
              "np.float64(3.7416573867739413)"
            ]
          },
          "metadata": {},
          "execution_count": 3
        }
      ]
    },
    {
      "cell_type": "code",
      "source": [
        "a = np.array([1,2,-3])\n",
        "np.linalg.norm(a,1)"
      ],
      "metadata": {
        "colab": {
          "base_uri": "https://localhost:8080/"
        },
        "id": "SzW-xTtXcuzX",
        "outputId": "2487c8aa-f376-43b7-a29f-ef672bc1f050"
      },
      "execution_count": 4,
      "outputs": [
        {
          "output_type": "execute_result",
          "data": {
            "text/plain": [
              "np.float64(6.0)"
            ]
          },
          "metadata": {},
          "execution_count": 4
        }
      ]
    },
    {
      "cell_type": "code",
      "source": [
        "def chuan(v,k):\n",
        " tong = 0\n",
        " for i in range(len(v)):\n",
        "  tong = tong + abs(v[i]**k)\n",
        " ketqua = math.pow(tong, 1.0/k)\n",
        " return ketqua"
      ],
      "metadata": {
        "id": "f-OI1T0ycuxF"
      },
      "execution_count": 5,
      "outputs": []
    },
    {
      "cell_type": "code",
      "source": [
        "import math\n",
        "import numpy as np\n",
        "a = np.array([1,2,-3])\n",
        "chuan(a, 1)"
      ],
      "metadata": {
        "colab": {
          "base_uri": "https://localhost:8080/"
        },
        "id": "ZYfgLpkXcuup",
        "outputId": "3210d213-2243-4b88-8a0b-d6e1f5a2a5b5"
      },
      "execution_count": 6,
      "outputs": [
        {
          "output_type": "execute_result",
          "data": {
            "text/plain": [
              "6.0"
            ]
          },
          "metadata": {},
          "execution_count": 6
        }
      ]
    },
    {
      "cell_type": "code",
      "source": [
        "np.linalg.norm(a,1)"
      ],
      "metadata": {
        "colab": {
          "base_uri": "https://localhost:8080/"
        },
        "id": "YpBabn6LcusZ",
        "outputId": "5951f971-cddc-488b-eff7-5ae147bd4ad8"
      },
      "execution_count": 7,
      "outputs": [
        {
          "output_type": "execute_result",
          "data": {
            "text/plain": [
              "np.float64(6.0)"
            ]
          },
          "metadata": {},
          "execution_count": 7
        }
      ]
    },
    {
      "cell_type": "code",
      "source": [
        "chuan(a, 2)"
      ],
      "metadata": {
        "colab": {
          "base_uri": "https://localhost:8080/"
        },
        "id": "A2bDOtwGcuqL",
        "outputId": "d59a7c95-44d7-446c-f412-4862b283d218"
      },
      "execution_count": 8,
      "outputs": [
        {
          "output_type": "execute_result",
          "data": {
            "text/plain": [
              "3.7416573867739413"
            ]
          },
          "metadata": {},
          "execution_count": 8
        }
      ]
    },
    {
      "cell_type": "code",
      "source": [
        "np.linalg.norm(a,2)"
      ],
      "metadata": {
        "colab": {
          "base_uri": "https://localhost:8080/"
        },
        "id": "Jsz17o-Xcun7",
        "outputId": "28fc6bcd-f0de-46b2-ab91-4969cdd815bb"
      },
      "execution_count": 9,
      "outputs": [
        {
          "output_type": "execute_result",
          "data": {
            "text/plain": [
              "np.float64(3.7416573867739413)"
            ]
          },
          "metadata": {},
          "execution_count": 9
        }
      ]
    },
    {
      "cell_type": "code",
      "source": [
        "chuan(a, 3)"
      ],
      "metadata": {
        "colab": {
          "base_uri": "https://localhost:8080/"
        },
        "id": "VEIN2s1Ecult",
        "outputId": "0b76c262-4139-4240-e8bc-83ee792baed1"
      },
      "execution_count": 10,
      "outputs": [
        {
          "output_type": "execute_result",
          "data": {
            "text/plain": [
              "3.3019272488946263"
            ]
          },
          "metadata": {},
          "execution_count": 10
        }
      ]
    },
    {
      "cell_type": "code",
      "source": [
        "np.linalg.norm(a,3)"
      ],
      "metadata": {
        "colab": {
          "base_uri": "https://localhost:8080/"
        },
        "id": "vzsdcUQOdEET",
        "outputId": "f1b64977-7910-4aec-8ef4-3cbba2247403"
      },
      "execution_count": 11,
      "outputs": [
        {
          "output_type": "execute_result",
          "data": {
            "text/plain": [
              "np.float64(3.3019272488946263)"
            ]
          },
          "metadata": {},
          "execution_count": 11
        }
      ]
    },
    {
      "cell_type": "code",
      "source": [
        "chuan(a, 1000)"
      ],
      "metadata": {
        "colab": {
          "base_uri": "https://localhost:8080/"
        },
        "id": "KavplwrvdECD",
        "outputId": "3b6a8c80-3e06-4952-fdab-3ff2cfa7f1e4"
      },
      "execution_count": 12,
      "outputs": [
        {
          "output_type": "execute_result",
          "data": {
            "text/plain": [
              "1.0442214818467515"
            ]
          },
          "metadata": {},
          "execution_count": 12
        }
      ]
    },
    {
      "cell_type": "code",
      "source": [
        "np.linalg.norm(a,1000)"
      ],
      "metadata": {
        "colab": {
          "base_uri": "https://localhost:8080/"
        },
        "id": "oxrRsC9vdD_h",
        "outputId": "9b673196-dc03-49c5-ea46-398c17759568"
      },
      "execution_count": 16,
      "outputs": [
        {
          "output_type": "stream",
          "name": "stderr",
          "text": [
            "/usr/local/lib/python3.11/dist-packages/numpy/linalg/_linalg.py:2780: RuntimeWarning: overflow encountered in power\n",
            "  absx **= ord\n"
          ]
        },
        {
          "output_type": "execute_result",
          "data": {
            "text/plain": [
              "np.float64(inf)"
            ]
          },
          "metadata": {},
          "execution_count": 16
        }
      ]
    },
    {
      "cell_type": "code",
      "source": [
        "from scipy import linalg\n",
        "linalg.norm(a)"
      ],
      "metadata": {
        "colab": {
          "base_uri": "https://localhost:8080/"
        },
        "id": "-E08UFIFdD9K",
        "outputId": "936ce0e0-213b-4961-ec09-44a894483d90"
      },
      "execution_count": 15,
      "outputs": [
        {
          "output_type": "execute_result",
          "data": {
            "text/plain": [
              "np.float64(3.7416573867739413)"
            ]
          },
          "metadata": {},
          "execution_count": 15
        }
      ]
    },
    {
      "cell_type": "code",
      "source": [
        "linalg.norm(a, 100)"
      ],
      "metadata": {
        "colab": {
          "base_uri": "https://localhost:8080/"
        },
        "id": "AC_yjb1hdD6r",
        "outputId": "d19e322a-6577-47cf-fdab-2cc310ae7f35"
      },
      "execution_count": 17,
      "outputs": [
        {
          "output_type": "execute_result",
          "data": {
            "text/plain": [
              "np.float64(3.0)"
            ]
          },
          "metadata": {},
          "execution_count": 17
        }
      ]
    },
    {
      "cell_type": "code",
      "source": [
        "linalg.norm(a, 1000)"
      ],
      "metadata": {
        "colab": {
          "base_uri": "https://localhost:8080/"
        },
        "id": "PlFjBzKadD4L",
        "outputId": "0e2c2d23-54ce-4586-e25a-5b21753bcc97"
      },
      "execution_count": 18,
      "outputs": [
        {
          "output_type": "stream",
          "name": "stderr",
          "text": [
            "/usr/local/lib/python3.11/dist-packages/numpy/linalg/_linalg.py:2780: RuntimeWarning: overflow encountered in power\n",
            "  absx **= ord\n"
          ]
        },
        {
          "output_type": "execute_result",
          "data": {
            "text/plain": [
              "np.float64(inf)"
            ]
          },
          "metadata": {},
          "execution_count": 18
        }
      ]
    },
    {
      "cell_type": "code",
      "source": [
        "import numpy as np\n",
        "m = 10\n",
        "v1 = np.array([5,-4,3])\n",
        "v2 = np.array([4,3,-2])\n",
        "v3 = np.array([-4,-3,-1])\n",
        "v4 = np.array([-9,8,6])\n",
        "mi = np.array([2,5,2,1])\n",
        "M = np.array([v1,v2,v3,v4])\n",
        "MT = M.transpose()\n",
        "MT"
      ],
      "metadata": {
        "colab": {
          "base_uri": "https://localhost:8080/"
        },
        "id": "J4Ua4laUdD14",
        "outputId": "58510f21-acca-4f82-929f-0a4617391db1"
      },
      "execution_count": 19,
      "outputs": [
        {
          "output_type": "execute_result",
          "data": {
            "text/plain": [
              "array([[ 5,  4, -4, -9],\n",
              "       [-4,  3, -3,  8],\n",
              "       [ 3, -2, -1,  6]])"
            ]
          },
          "metadata": {},
          "execution_count": 19
        }
      ]
    },
    {
      "cell_type": "code",
      "source": [
        "v = (1.0/m)*MT.dot(mi)\n",
        "print (v)"
      ],
      "metadata": {
        "colab": {
          "base_uri": "https://localhost:8080/"
        },
        "id": "e5TXSdXYdDzm",
        "outputId": "7a711396-4e25-4d5d-f583-629873f2a54f"
      },
      "execution_count": 20,
      "outputs": [
        {
          "output_type": "stream",
          "name": "stdout",
          "text": [
            "[1.3 0.9 0. ]\n"
          ]
        }
      ]
    },
    {
      "cell_type": "code",
      "source": [
        "import sympy as sym\n",
        "x, y = sym.symbols('x y')\n",
        "xy = sym.Matrix([x,y])\n",
        "A = sym.Matrix([[1, -68],[1,1]])\n",
        "v = sym.Matrix([0, 1])\n",
        "nghiem = sym.solve([A*xy-v])\n",
        "print(sym.pretty(nghiem))"
      ],
      "metadata": {
        "colab": {
          "base_uri": "https://localhost:8080/"
        },
        "id": "qBut0aa1dDxV",
        "outputId": "e2e343a9-4a4b-4b36-b9c5-c81b2e39cb1f"
      },
      "execution_count": 21,
      "outputs": [
        {
          "output_type": "stream",
          "name": "stdout",
          "text": [
            "⎧   68         ⎫\n",
            "⎨x: ──, y: 1/69⎬\n",
            "⎩   69         ⎭\n"
          ]
        }
      ]
    },
    {
      "cell_type": "code",
      "source": [
        "import sympy\n",
        "x, y, Lambda = sympy.symbols('x y Lambda')\n",
        "I = sympy.eye(2)"
      ],
      "metadata": {
        "id": "ntQBjYUVdDvI"
      },
      "execution_count": 22,
      "outputs": []
    },
    {
      "cell_type": "code",
      "source": [
        "A = sympy.Matrix([[2,3],[3,-6]])\n",
        "phuongtrinh = sympy.Eq(sympy.det(Lambda*I-A), 0)\n",
        "nghiem = sympy.solve(phuongtrinh)\n",
        "print([sympy.N(phantu,4) for phantu in nghiem])"
      ],
      "metadata": {
        "colab": {
          "base_uri": "https://localhost:8080/"
        },
        "id": "P7GiCNg5dDs1",
        "outputId": "0ea64576-0906-49aa-b05c-15f368defbfb"
      },
      "execution_count": 23,
      "outputs": [
        {
          "output_type": "stream",
          "name": "stdout",
          "text": [
            "[-7.000, 3.000]\n"
          ]
        }
      ]
    },
    {
      "cell_type": "code",
      "source": [
        "import sympy\n",
        "x, y, Lambda = sympy.symbols('x y Lambda')\n",
        "I = sympy.eye(2)"
      ],
      "metadata": {
        "id": "AbNk-gQtdDqk"
      },
      "execution_count": 24,
      "outputs": []
    },
    {
      "cell_type": "code",
      "source": [
        "A = sympy.Matrix([[2,3],[3,-6]])\n",
        "phuongtrinh = sympy.Eq(sympy.det(Lambda*I-A), 0)\n",
        "nghiem = sympy.solve(phuongtrinh)\n",
        "print([sympy.N(phantu,4) for phantu in nghiem])"
      ],
      "metadata": {
        "colab": {
          "base_uri": "https://localhost:8080/"
        },
        "id": "oESIBKAldDoO",
        "outputId": "515caac0-b1a0-4cc4-9b43-4f779339b7f1"
      },
      "execution_count": 25,
      "outputs": [
        {
          "output_type": "stream",
          "name": "stdout",
          "text": [
            "[-7.000, 3.000]\n"
          ]
        }
      ]
    },
    {
      "cell_type": "code",
      "source": [
        "print (sympy.pretty(nghiem))"
      ],
      "metadata": {
        "colab": {
          "base_uri": "https://localhost:8080/"
        },
        "id": "whUDfFr6dt53",
        "outputId": "fe8758bd-619f-433c-a051-98c6dd00359c"
      },
      "execution_count": 26,
      "outputs": [
        {
          "output_type": "stream",
          "name": "stdout",
          "text": [
            "[-7, 3]\n"
          ]
        }
      ]
    },
    {
      "cell_type": "code",
      "source": [
        "import numpy as np\n",
        "A = np.array([[2,3],[3,-6]])\n",
        "D = np.array([[-7,0],[0,3]])\n",
        "P = np.array([[-1.0/3, 3],[1,1]])\n",
        "from numpy import linalg\n",
        "from numpy import linalg as LA\n",
        "P1 = LA.inv(P)\n",
        "print (P1)"
      ],
      "metadata": {
        "colab": {
          "base_uri": "https://localhost:8080/"
        },
        "id": "xZHMyxeddt3x",
        "outputId": "58315ae5-22f0-4efe-c2f5-ba18edd5ccaa"
      },
      "execution_count": 27,
      "outputs": [
        {
          "output_type": "stream",
          "name": "stdout",
          "text": [
            "[[-0.3  0.9]\n",
            " [ 0.3  0.1]]\n"
          ]
        }
      ]
    },
    {
      "cell_type": "code",
      "source": [
        "A.dot(P)"
      ],
      "metadata": {
        "colab": {
          "base_uri": "https://localhost:8080/"
        },
        "id": "IlzOaxwFdt1g",
        "outputId": "6106458c-27e4-4233-c73c-9e472631749a"
      },
      "execution_count": 28,
      "outputs": [
        {
          "output_type": "execute_result",
          "data": {
            "text/plain": [
              "array([[ 2.33333333,  9.        ],\n",
              "       [-7.        ,  3.        ]])"
            ]
          },
          "metadata": {},
          "execution_count": 28
        }
      ]
    },
    {
      "cell_type": "code",
      "source": [
        "P.dot(D)"
      ],
      "metadata": {
        "colab": {
          "base_uri": "https://localhost:8080/"
        },
        "id": "2eX3R8RTdtzU",
        "outputId": "7a074fdf-c6c8-4491-d51b-7795c12da3a5"
      },
      "execution_count": 29,
      "outputs": [
        {
          "output_type": "execute_result",
          "data": {
            "text/plain": [
              "array([[ 2.33333333,  9.        ],\n",
              "       [-7.        ,  3.        ]])"
            ]
          },
          "metadata": {},
          "execution_count": 29
        }
      ]
    },
    {
      "cell_type": "code",
      "source": [
        "P @ (D ** 1000) @ P1"
      ],
      "metadata": {
        "colab": {
          "base_uri": "https://localhost:8080/"
        },
        "id": "sH-jnVEtdtw7",
        "outputId": "12d9b6b4-137f-439a-e447-73bb1548a0e6"
      },
      "execution_count": 30,
      "outputs": [
        {
          "output_type": "execute_result",
          "data": {
            "text/plain": [
              "array([[ 5.03503397e+18,  3.50482117e+18],\n",
              "       [ 3.50482117e+18, -4.31115581e+18]])"
            ]
          },
          "metadata": {},
          "execution_count": 30
        }
      ]
    },
    {
      "cell_type": "code",
      "source": [
        "print (D **2)"
      ],
      "metadata": {
        "colab": {
          "base_uri": "https://localhost:8080/"
        },
        "id": "G0md-9oVdtul",
        "outputId": "9645d871-058e-4dde-a927-819cc169bab6"
      },
      "execution_count": 31,
      "outputs": [
        {
          "output_type": "stream",
          "name": "stdout",
          "text": [
            "[[49  0]\n",
            " [ 0  9]]\n"
          ]
        }
      ]
    },
    {
      "cell_type": "code",
      "source": [
        "import numpy as np\n",
        "a = np.array([1,2,3])\n",
        "mag = np.sqrt(a.dot(a))\n",
        "mag = np.sqrt(a @ a )\n",
        "mag = np.sqrt(np.inner(a,a))\n",
        "mag = lambda x : math.sqrt(sum(i** 2 for i in x))\n",
        "mag(a)"
      ],
      "metadata": {
        "colab": {
          "base_uri": "https://localhost:8080/"
        },
        "id": "-IHl3K09dtsS",
        "outputId": "117309d9-9809-4ec0-f4f0-558681a6ecb6"
      },
      "execution_count": 32,
      "outputs": [
        {
          "output_type": "execute_result",
          "data": {
            "text/plain": [
              "3.7416573867739413"
            ]
          },
          "metadata": {},
          "execution_count": 32
        }
      ]
    },
    {
      "cell_type": "code",
      "source": [
        "import numpy as np\n",
        "import math\n",
        "\n",
        "a = np.array([1, 2, 3])\n",
        "\n",
        "# Câu a\n",
        "mag_a = np.sqrt(a.dot(a))\n",
        "\n",
        "# Câu b\n",
        "mag_b = np.sqrt(a @ a)\n",
        "\n",
        "# Câu c\n",
        "mag_c = np.sqrt(np.inner(a, a))\n",
        "\n",
        "# Câu d\n",
        "mag_d_func = lambda x: math.sqrt(sum(i**2 for i in x))\n",
        "mag_d = mag_d_func(a)\n",
        "\n",
        "# In kết quả\n",
        "print(\"Câu a:\", mag_a)\n",
        "print(\"Câu b:\", mag_b)\n",
        "print(\"Câu c:\", mag_c)\n",
        "print(\"Câu d:\", mag_d)\n",
        "print('Tất cả các câu a, b, c, d đều đúng và đều tính chuẩn 2 của vector a.')"
      ],
      "metadata": {
        "colab": {
          "base_uri": "https://localhost:8080/"
        },
        "id": "yiKU3x2dgEN9",
        "outputId": "e5d2a86d-9bfb-49e6-d08d-b143f4694e4e"
      },
      "execution_count": 34,
      "outputs": [
        {
          "output_type": "stream",
          "name": "stdout",
          "text": [
            "Câu a: 3.7416573867739413\n",
            "Câu b: 3.7416573867739413\n",
            "Câu c: 3.7416573867739413\n",
            "Câu d: 3.7416573867739413\n",
            "Tất cả các câu a, b, c, d đều đúng và đều tính chuẩn 2 của vector a.\n"
          ]
        }
      ]
    },
    {
      "cell_type": "code",
      "source": [
        "import numpy as np\n",
        "from math import acos, degrees\n",
        "\n",
        "# Nhập vector u và v\n",
        "u = np.array([1, 2, 3])\n",
        "v = np.array([4, 5, 6])\n",
        "\n",
        "# a. Tính khoảng cách giữa 2 vector: ||u - v||\n",
        "def vector_distance(u, v):\n",
        "    return np.linalg.norm(u - v)\n",
        "\n",
        "# b. Tính góc θ giữa 2 vector u và v (tính bằng độ)\n",
        "def angle_between_vectors(u, v):\n",
        "    dot_product = np.dot(u, v)\n",
        "    norm_u = np.linalg.norm(u)\n",
        "    norm_v = np.linalg.norm(v)\n",
        "    cos_theta = dot_product / (norm_u * norm_v)\n",
        "    angle_rad = acos(cos_theta)\n",
        "    angle_deg = degrees(angle_rad)\n",
        "    return angle_deg\n",
        "\n",
        "# c. Phép chiếu trực giao p của u lên v\n",
        "def orthogonal_projection(u, v):\n",
        "    projection_scalar = np.dot(u, v) / np.dot(v, v)\n",
        "    projection = projection_scalar * v\n",
        "    return projection\n",
        "\n",
        "print(\"a) ||u - v|| =\", vector_distance(u, v))\n",
        "print(\"b) Góc giữa u và v (độ) =\", angle_between_vectors(u, v))\n",
        "print(\"c) Phép chiếu trực giao p của u lên v =\", orthogonal_projection(u, v))\n"
      ],
      "metadata": {
        "colab": {
          "base_uri": "https://localhost:8080/"
        },
        "id": "DbRnIyAHgbdR",
        "outputId": "97b084eb-7942-44a0-a087-81951c7ca9eb"
      },
      "execution_count": 35,
      "outputs": [
        {
          "output_type": "stream",
          "name": "stdout",
          "text": [
            "a) ||u - v|| = 5.196152422706632\n",
            "b) Góc giữa u và v (độ) = 12.933154491899135\n",
            "c) Phép chiếu trực giao p của u lên v = [1.66233766 2.07792208 2.49350649]\n"
          ]
        }
      ]
    }
  ]
}