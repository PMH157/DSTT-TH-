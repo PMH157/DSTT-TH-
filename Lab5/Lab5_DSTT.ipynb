{
  "nbformat": 4,
  "nbformat_minor": 0,
  "metadata": {
    "colab": {
      "provenance": []
    },
    "kernelspec": {
      "name": "python3",
      "display_name": "Python 3"
    },
    "language_info": {
      "name": "python"
    }
  },
  "cells": [
    {
      "cell_type": "markdown",
      "source": [
        "# **Bài 1**"
      ],
      "metadata": {
        "id": "BPzl8KHFaghE"
      }
    },
    {
      "cell_type": "markdown",
      "source": [
        "# **1.1**"
      ],
      "metadata": {
        "id": "iJMaExykcQ75"
      }
    },
    {
      "cell_type": "code",
      "execution_count": 6,
      "metadata": {
        "colab": {
          "base_uri": "https://localhost:8080/"
        },
        "id": "B3xebpzyaKqN",
        "outputId": "2f4ccb69-418d-453d-ca9b-107f1e33457c"
      },
      "outputs": [
        {
          "output_type": "stream",
          "name": "stdout",
          "text": [
            "[[1 2]\n",
            " [3 4]]\n"
          ]
        }
      ],
      "source": [
        "import numpy as np\n",
        "D = np.array([[1,2],[3,4]])\n",
        "np.copyto(E, D)\n",
        "E = np.array([[1,2],[3,5]])\n",
        "np.copyto(E, D)\n",
        "print(E)"
      ]
    },
    {
      "cell_type": "markdown",
      "source": [
        "# **1.2**"
      ],
      "metadata": {
        "id": "nszrQLk-cWZT"
      }
    },
    {
      "cell_type": "code",
      "source": [
        "x = np.array([['a','b'],['c','d']])\n",
        "y = 'x'\n",
        "C = np.matrix([[x, y], [1, 2]], dtype=object)\n",
        "print (C)"
      ],
      "metadata": {
        "colab": {
          "base_uri": "https://localhost:8080/"
        },
        "id": "YxOk4ga9aZy1",
        "outputId": "5b6df327-b0c7-4dcd-dd74-e2cb27232096"
      },
      "execution_count": 8,
      "outputs": [
        {
          "output_type": "stream",
          "name": "stdout",
          "text": [
            "[[array([['a', 'b'],\n",
            "         ['c', 'd']], dtype='<U1') 'x']\n",
            " [1 2]]\n"
          ]
        }
      ]
    },
    {
      "cell_type": "code",
      "source": [
        "A = np.array([[[1,2],[3,4]],[[5,6],[7,8]]])\n",
        "print(A)"
      ],
      "metadata": {
        "colab": {
          "base_uri": "https://localhost:8080/"
        },
        "id": "JhrjICkWaZu-",
        "outputId": "ebac3163-ad14-4fbb-a773-9ed2c50c8283"
      },
      "execution_count": 9,
      "outputs": [
        {
          "output_type": "stream",
          "name": "stdout",
          "text": [
            "[[[1 2]\n",
            "  [3 4]]\n",
            "\n",
            " [[5 6]\n",
            "  [7 8]]]\n"
          ]
        }
      ]
    },
    {
      "cell_type": "markdown",
      "source": [
        "# **1.3**"
      ],
      "metadata": {
        "id": "HWObwGE_cxdQ"
      }
    },
    {
      "cell_type": "code",
      "source": [
        "from numpy import matlib\n",
        "G = matlib.identity(5)\n",
        "print (G)"
      ],
      "metadata": {
        "colab": {
          "base_uri": "https://localhost:8080/"
        },
        "id": "1nRNbBpJaZmz",
        "outputId": "ced3de2b-a8fe-4fcd-82b5-379e043e495b"
      },
      "execution_count": 10,
      "outputs": [
        {
          "output_type": "stream",
          "name": "stdout",
          "text": [
            "[[1. 0. 0. 0. 0.]\n",
            " [0. 1. 0. 0. 0.]\n",
            " [0. 0. 1. 0. 0.]\n",
            " [0. 0. 0. 1. 0.]\n",
            " [0. 0. 0. 0. 1.]]\n"
          ]
        }
      ]
    },
    {
      "cell_type": "code",
      "source": [
        "H = matlib.randn(3,2)\n",
        "print(H)"
      ],
      "metadata": {
        "colab": {
          "base_uri": "https://localhost:8080/"
        },
        "id": "cLyqby7daZkQ",
        "outputId": "83a84d64-cc03-4512-f109-f109663c48b1"
      },
      "execution_count": 11,
      "outputs": [
        {
          "output_type": "stream",
          "name": "stdout",
          "text": [
            "[[-0.41450256  0.45439079]\n",
            " [-0.1770996   1.03431684]\n",
            " [-0.69427564  0.13186718]]\n"
          ]
        }
      ]
    },
    {
      "cell_type": "code",
      "source": [
        "K = matlib.zeros([4,4])\n",
        "print(K)"
      ],
      "metadata": {
        "colab": {
          "base_uri": "https://localhost:8080/"
        },
        "id": "nSUQ6qcFaZhw",
        "outputId": "11a6c1fe-e125-4574-daa8-d3bd3894102f"
      },
      "execution_count": 12,
      "outputs": [
        {
          "output_type": "stream",
          "name": "stdout",
          "text": [
            "[[0. 0. 0. 0.]\n",
            " [0. 0. 0. 0.]\n",
            " [0. 0. 0. 0.]\n",
            " [0. 0. 0. 0.]]\n"
          ]
        }
      ]
    },
    {
      "cell_type": "markdown",
      "source": [
        "# **Bài 2**"
      ],
      "metadata": {
        "id": "UFZv8tm1dBOR"
      }
    },
    {
      "cell_type": "markdown",
      "source": [
        "# **2.2**"
      ],
      "metadata": {
        "id": "rqtfQgpCdCo4"
      }
    },
    {
      "cell_type": "code",
      "source": [
        "import numpy as np\n",
        "c = [3, 7, 15, 1, 292, 1, 1, 1, 2, 1, 3, 1, 14, 2]\n",
        "M = np.asmatrix([[1,2],[3,4]])\n",
        "for i in range(len(c)):\n",
        "  ci = np.asmatrix([[1,1],[1,0]])\n",
        "  ci[0, 0] = c[i]\n",
        "  if (i==0):\n",
        "    M = ci\n",
        "  else:\n",
        "    M = M.dot(ci)\n",
        "print(M)\n",
        "print (M[0,0]/M[1,0])"
      ],
      "metadata": {
        "colab": {
          "base_uri": "https://localhost:8080/"
        },
        "id": "Yz_JHIsbaZeC",
        "outputId": "d05d2924-e69e-44c2-e6c3-0be082da81f7"
      },
      "execution_count": 15,
      "outputs": [
        {
          "output_type": "stream",
          "name": "stdout",
          "text": [
            "[[165707065  80143857]\n",
            " [ 52746197  25510582]]\n",
            "3.1415926535897936\n"
          ]
        }
      ]
    },
    {
      "cell_type": "code",
      "source": [
        "X = np.array([[1, 1], [1, 2], [1, 3], [1, 4], [1, 5]])\n",
        "Y = np.array([[2], [4], [4], [4], [6]])\n",
        "XT = X.T\n",
        "A1 = np.linalg.inv(XT.dot(X))  # (X^T X)^(-1)\n",
        "A2 = XT.dot(Y)                 # X^T Y\n",
        "A = A1.dot(A2)\n",
        "f = X.dot(A)  # f_i = a0 + a1*x_i\n",
        "error = f - Y\n",
        "total_squared_error = (error.T).dot(error)\n",
        "print(f\"Hệ số hồi quy: a0 = {A[0][0]:.2f}, a1 = {A[1][0]:.2f}\")\n",
        "print(f\"Phương trình: y = {A[0][0]:.2f} + {A[1][0]:.2f}x\")\n",
        "print(f\"Tổng bình phương sai số: {total_squared_error[0][0]:.2f}\")"
      ],
      "metadata": {
        "colab": {
          "base_uri": "https://localhost:8080/"
        },
        "id": "xfTdLrrAaWdn",
        "outputId": "44232d04-2bb6-4ad0-fd57-d59fbd254d2f"
      },
      "execution_count": 16,
      "outputs": [
        {
          "output_type": "stream",
          "name": "stdout",
          "text": [
            "Hệ số hồi quy: a0 = 1.60, a1 = 0.80\n",
            "Phương trình: y = 1.60 + 0.80x\n",
            "Tổng bình phương sai số: 1.60\n"
          ]
        }
      ]
    },
    {
      "cell_type": "markdown",
      "source": [
        "# **Bài tập chương**"
      ],
      "metadata": {
        "id": "z2Jj_2XDgZne"
      }
    },
    {
      "cell_type": "markdown",
      "source": [
        "# **Bài 1**"
      ],
      "metadata": {
        "id": "RikcZlU7gujk"
      }
    },
    {
      "cell_type": "code",
      "source": [
        "import numpy as np\n",
        "\n",
        "# Tạo ma trận X (thêm cột số 1 để tính hệ số chệch a0)\n",
        "X = np.array([[1, 0],\n",
        "              [1, 1],\n",
        "              [1, 2],\n",
        "              [1, 3],\n",
        "              [1, 4]])\n",
        "\n",
        "# Tạo vector Y\n",
        "Y = np.array([[10],\n",
        "              [8],\n",
        "              [7],\n",
        "              [5],\n",
        "              [2]])\n",
        "# Tính X^T\n",
        "XT = X.T\n",
        "\n",
        "# Tính A1 = (X^T X)^(-1)\n",
        "A1 = np.linalg.inv(XT.dot(X))\n",
        "\n",
        "# Tính A2 = X^T Y\n",
        "A2 = XT.dot(Y)\n",
        "\n",
        "# Tính A = A1 . A2\n",
        "A = A1.dot(A2)\n",
        "# Lấy hệ số a0 và a1\n",
        "a0 = A[0][0]\n",
        "a1 = A[1][0]\n",
        "\n",
        "# In phương trình hồi quy\n",
        "print(f\"Phương trình hồi quy gần đúng: y = {a0:.2f} + {a1:.2f}x\")\n",
        "\n",
        "# Tính các giá trị dự đoán f_i và sai số bình phương\n",
        "f = X.dot(A)\n",
        "error = f - Y\n",
        "squared_error = (error.T).dot(error)\n",
        "\n",
        "# In tổng sai số bình phương\n",
        "print(f\"Tổng bình phương sai số: {squared_error[0][0]:.2f}\")\n"
      ],
      "metadata": {
        "colab": {
          "base_uri": "https://localhost:8080/"
        },
        "id": "GuD1NvBQaWYb",
        "outputId": "aa5ceb49-fd96-4dce-e8d5-0196ff028943"
      },
      "execution_count": 17,
      "outputs": [
        {
          "output_type": "stream",
          "name": "stdout",
          "text": [
            "Phương trình hồi quy gần đúng: y = 10.20 + -1.90x\n",
            "Tổng bình phương sai số: 1.10\n"
          ]
        }
      ]
    },
    {
      "cell_type": "code",
      "source": [
        "import numpy as np\n",
        "\n",
        "def bpcuctieu(y):  # y là list [10, 8, 7, 5, 2]\n",
        "    x = np.array([[1, 0],\n",
        "                  [1, 1],\n",
        "                  [1, 2],\n",
        "                  [1, 3],\n",
        "                  [1, 4]])  # đúng thứ tự x: 0,1,2,3,4\n",
        "\n",
        "    y = np.array(y).reshape(-1, 1)\n",
        "\n",
        "    # Tính A = (X^T X)^(-1) X^T Y\n",
        "    XT = x.T\n",
        "    A1 = np.linalg.inv(XT.dot(x))\n",
        "    A2 = XT.dot(y)\n",
        "    A = A1.dot(A2)\n",
        "\n",
        "    print(f\"Phương trình gần đúng: y = {A[0][0]:.1f} + ({A[1][0]:.1f})x\")\n",
        "    return A\n",
        "\n",
        "dulieu = [10.0, 8, 7, 5, 2]\n",
        "bpcuctieu(dulieu)"
      ],
      "metadata": {
        "colab": {
          "base_uri": "https://localhost:8080/"
        },
        "id": "qb3gOxlwaTu8",
        "outputId": "cbf5efda-c742-40ef-ec36-64d669491231"
      },
      "execution_count": 24,
      "outputs": [
        {
          "output_type": "stream",
          "name": "stdout",
          "text": [
            "Phương trình gần đúng: y = 10.2 + (-1.9)x\n"
          ]
        },
        {
          "output_type": "execute_result",
          "data": {
            "text/plain": [
              "array([[10.2],\n",
              "       [-1.9]])"
            ]
          },
          "metadata": {},
          "execution_count": 24
        }
      ]
    }
  ]
}