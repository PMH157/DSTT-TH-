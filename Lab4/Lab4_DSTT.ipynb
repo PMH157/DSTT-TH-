{
  "nbformat": 4,
  "nbformat_minor": 0,
  "metadata": {
    "colab": {
      "provenance": []
    },
    "kernelspec": {
      "name": "python3",
      "display_name": "Python 3"
    },
    "language_info": {
      "name": "python"
    }
  },
  "cells": [
    {
      "cell_type": "markdown",
      "source": [
        "# **Câu 1**"
      ],
      "metadata": {
        "id": "-PaKW1-ShRVs"
      }
    },
    {
      "cell_type": "code",
      "execution_count": 8,
      "metadata": {
        "colab": {
          "base_uri": "https://localhost:8080/"
        },
        "id": "2IuE07K8ZCOM",
        "outputId": "aa555b2d-1005-4b58-e9f0-64b366995d28"
      },
      "outputs": [
        {
          "output_type": "stream",
          "name": "stdout",
          "text": [
            "-1\n",
            "1\n",
            "1\n"
          ]
        }
      ],
      "source": [
        "import numpy as np\n",
        "n = 4\n",
        "X = np.array(range(1,n+1))\n",
        "sigma = np.array([4,3,2,1])\n",
        "def sgn_by_def(sigma):\n",
        "    ket_qua = 1.0\n",
        "    for i in range(len(X) - 1):\n",
        "        for j in range(i + 1, len(X)):\n",
        "            ket_qua = ket_qua * ((X[i] - X[j]) / (sigma[i] - sigma[j]))\n",
        "    return int(ket_qua)\n",
        "\n",
        "sigma = np.array([2, 1, 3, 4])\n",
        "print(sgn_by_def(sigma))\n",
        "sigma = np.array([1,2,3,4])\n",
        "sgn_by_def(sigma)\n",
        "print(sgn_by_def(sigma))\n",
        "sigma = np.array([4,3,2,1])\n",
        "sgn_by_def(sigma)\n",
        "print(sgn_by_def(sigma))"
      ]
    },
    {
      "cell_type": "code",
      "source": [
        "from itertools import permutations\n",
        "n = 3\n",
        "X = []\n",
        "for i in range (1, n+1):\n",
        "  X.append(i)\n",
        "Sn = list(permutations(X)) #  tạo hoán vị của tập X\n",
        "print(Sn)"
      ],
      "metadata": {
        "colab": {
          "base_uri": "https://localhost:8080/"
        },
        "id": "TM04d9KGaw1E",
        "outputId": "c45e7dc0-5622-4935-a6e4-8289a51618fb"
      },
      "execution_count": 6,
      "outputs": [
        {
          "output_type": "stream",
          "name": "stdout",
          "text": [
            "[(1, 2, 3), (1, 3, 2), (2, 1, 3), (2, 3, 1), (3, 1, 2), (3, 2, 1)]\n"
          ]
        }
      ]
    },
    {
      "cell_type": "code",
      "source": [
        "from itertools import permutations\n",
        "import numpy as np\n",
        "def sgn_by_def(sigma, X):\n",
        "    ket_qua = 1.0\n",
        "    for i in range(len(X) - 1):\n",
        "        for j in range(i + 1, len(X)):\n",
        "            ket_qua *= (X[i] - X[j]) / (sigma[i] - sigma[j])\n",
        "    return int(ket_qua)\n",
        "def phatsinh_dinhthuc(n):\n",
        "    X = []\n",
        "    for i in range(1, n + 1):\n",
        "        X.append(i)\n",
        "    Sn = list(permutations(X))\n",
        "    dinhthuc = \"\"\n",
        "    for sn in Sn:\n",
        "        sigma = np.array([1])\n",
        "        sigma.resize((n,))\n",
        "        product = \"\"\n",
        "        for i in range(1, n + 1):\n",
        "            sigma[sn.index(i)] = i\n",
        "            product += \"a\" + str(i) + str(sn.index(i) + 1)\n",
        "        dau = sgn_by_def(sigma, X)\n",
        "        if dau != 1:\n",
        "            product = \" - \" + product\n",
        "        else:\n",
        "            product = \" + \" + product\n",
        "        dinhthuc += product\n",
        "    return dinhthuc"
      ],
      "metadata": {
        "id": "EQUr9DmeaycY"
      },
      "execution_count": 10,
      "outputs": []
    },
    {
      "cell_type": "code",
      "source": [
        "def tinhtoan_dinhthuc(A):\n",
        "    X = []\n",
        "    import math\n",
        "    n = int(math.sqrt(A.size))\n",
        "    for i in range(1, n+1):\n",
        "      X.append(i)\n",
        "    Sn = list(permutations(X))\n",
        "    dinhthuc = 0\n",
        "    for sn in Sn:\n",
        "      sigma = np.array([1])\n",
        "      sigma.resize([n])\n",
        "      product = 1\n",
        "      for i in range(1,n+1):\n",
        "        sigma[sn.index(i)] = i\n",
        "        product = product * A[i-1][sn.index(i)]\n",
        "      dau = sgn_by_def(sigma)\n",
        "      if (dau != 1):\n",
        "        product = product * (-1)\n",
        "      dinhthuc = dinhthuc + product\n",
        "    return dinhthuc\n",
        "matran = np.array([ [3,5,-8], [4, 12, -1], [2,5,3] ])\n",
        "print(tinhtoan_dinhthuc(matran))"
      ],
      "metadata": {
        "colab": {
          "base_uri": "https://localhost:8080/"
        },
        "id": "JBa_eWHwayZF",
        "outputId": "05b7d7b6-9093-489f-9205-7fa4b10bc996"
      },
      "execution_count": null,
      "outputs": [
        {
          "output_type": "stream",
          "name": "stdout",
          "text": [
            "85\n"
          ]
        }
      ]
    },
    {
      "cell_type": "markdown",
      "source": [
        "# **Câu 3**"
      ],
      "metadata": {
        "id": "VS2bIdr0iA39"
      }
    },
    {
      "cell_type": "code",
      "source": [
        "import numpy as np\n",
        "A = np.array([[4, -2],[3, -5]]) # khai báo ma trận A\n",
        "A1 = np.array([[10, -2],[11, -5]])\n",
        "A2 = np.array([[4, 10],[3, 11]])\n",
        "from scipy import linalg # lưu ý: hàm tính định thức của ma trận là scipy.linalg.det(A)\n",
        "detA = linalg.det(A) # tính định thức cho ma trận A\n",
        "detA1 = linalg.det(A1)\n",
        "detA2 = linalg.det(A2)\n",
        "print (detA, detA1, detA2)\n",
        "if (detA != 0):\n",
        "  x1 = detA1 / detA\n",
        "  x2 = detA2 / detA\n",
        "print (\"Hai nghiệm của phương trình là: \", 'x1=',x1, 'x2=',x2)"
      ],
      "metadata": {
        "colab": {
          "base_uri": "https://localhost:8080/"
        },
        "id": "MEdjFGnPayXH",
        "outputId": "e2302e1f-4572-4aba-c2d9-1f89be62cadd"
      },
      "execution_count": null,
      "outputs": [
        {
          "output_type": "stream",
          "name": "stdout",
          "text": [
            "-14.0 -28.0 14.000000000000004\n",
            "Hai nghiệm của phương trình là:  x1= 2.0 x2= -1.0000000000000002\n"
          ]
        }
      ]
    },
    {
      "cell_type": "code",
      "source": [
        "import numpy as np\n",
        "A = np.array([[-1, 2, -3],\n",
        "              [2, -2, 1],\n",
        "              [3, -4, 4]])\n",
        "\n",
        "b = np.array([1, 3, 2])\n",
        "\n",
        "rank_A = np.linalg.matrix_rank(A)\n",
        "augmented_matrix = np.column_stack((A, b))\n",
        "rank_augmented = np.linalg.matrix_rank(augmented_matrix)\n",
        "if rank_A == rank_augmented:\n",
        "    if rank_A == A.shape[1]:\n",
        "        solution = np.linalg.solve(A, b)\n",
        "        print(\"Hệ có nghiệm duy nhất:\")\n",
        "        print(f\"a = {solution[0]}\")\n",
        "        print(f\"e = {solution[1]}\")\n",
        "        print(f\"f = {solution[2]}\")\n",
        "    else:\n",
        "        print(\"Hệ có vô số nghiệm\")\n",
        "else:\n",
        "    print(\"Hệ vô nghiệm\")"
      ],
      "metadata": {
        "colab": {
          "base_uri": "https://localhost:8080/"
        },
        "id": "Aa4gCkG4ayU0",
        "outputId": "d3211710-7119-46b7-d5c8-2aa0bfd68bee"
      },
      "execution_count": null,
      "outputs": [
        {
          "output_type": "stream",
          "name": "stdout",
          "text": [
            "Hệ có vô số nghiệm\n"
          ]
        }
      ]
    },
    {
      "cell_type": "markdown",
      "source": [
        "# **Bài 4**"
      ],
      "metadata": {
        "id": "SUwThW_eZS7d"
      }
    },
    {
      "cell_type": "code",
      "source": [
        "import sympy as sp\n",
        "TG = sp.Matrix([[1, 0, 1],[4, 3, 1], [2, 2, 1]])\n",
        "1/2*TG.det()"
      ],
      "metadata": {
        "colab": {
          "base_uri": "https://localhost:8080/",
          "height": 37
        },
        "id": "vsOdbtBjZStD",
        "outputId": "22f3321b-f8d4-4707-a3a8-6c38396d1fb9"
      },
      "execution_count": 11,
      "outputs": [
        {
          "output_type": "execute_result",
          "data": {
            "text/plain": [
              "1.50000000000000"
            ],
            "text/latex": "$\\displaystyle 1.5$"
          },
          "metadata": {},
          "execution_count": 11
        }
      ]
    },
    {
      "cell_type": "code",
      "source": [
        "M = np.matrix([[0, 4, 1, 1], [4, 0, 0, 1], [3, 5, 2, 1], [2, 2, 5, 1]])\n",
        "detM=np.linalg.det(M)\n",
        "(1/6)*detM"
      ],
      "metadata": {
        "id": "iYtngngjayS2",
        "colab": {
          "base_uri": "https://localhost:8080/"
        },
        "outputId": "651c5c5b-ea74-44bf-c662-272caade3857"
      },
      "execution_count": 12,
      "outputs": [
        {
          "output_type": "execute_result",
          "data": {
            "text/plain": [
              "np.float64(-12.0)"
            ]
          },
          "metadata": {},
          "execution_count": 12
        }
      ]
    },
    {
      "cell_type": "code",
      "source": [
        "M = sp.Matrix([[0, 4, 1, 1], [4, 0, 0, 1], [3, 5, 2, 1], [2, 2, 5, 1]])\n",
        "M.det()"
      ],
      "metadata": {
        "id": "7H26dFIBayQ5",
        "colab": {
          "base_uri": "https://localhost:8080/",
          "height": 37
        },
        "outputId": "bfd21a1d-4bde-49bf-e0c3-b038d1e79c27"
      },
      "execution_count": 13,
      "outputs": [
        {
          "output_type": "execute_result",
          "data": {
            "text/plain": [
              "-72"
            ],
            "text/latex": "$\\displaystyle -72$"
          },
          "metadata": {},
          "execution_count": 13
        }
      ]
    },
    {
      "cell_type": "code",
      "source": [
        "1/6*M.det()"
      ],
      "metadata": {
        "id": "p8jNxHEcayOn",
        "colab": {
          "base_uri": "https://localhost:8080/",
          "height": 37
        },
        "outputId": "a28ed610-e1fc-448c-9d5b-5d3d7c6430c3"
      },
      "execution_count": 14,
      "outputs": [
        {
          "output_type": "execute_result",
          "data": {
            "text/plain": [
              "-12.0000000000000"
            ],
            "text/latex": "$\\displaystyle -12.0$"
          },
          "metadata": {},
          "execution_count": 14
        }
      ]
    },
    {
      "cell_type": "code",
      "source": [
        "from sympy import *\n",
        "x, y, z = symbols('x y z')\n",
        "MP = Matrix([[x, y, z, 1],[-1, 3, 2, 1],[0, 1, 0, 1],[-2, 0, 1, 1]])\n",
        "MP.det()"
      ],
      "metadata": {
        "id": "b3ZFzIbTayMU",
        "colab": {
          "base_uri": "https://localhost:8080/",
          "height": 39
        },
        "outputId": "4fcb6944-99a9-4b8c-9c06-b510115ce4e7"
      },
      "execution_count": 16,
      "outputs": [
        {
          "output_type": "execute_result",
          "data": {
            "text/plain": [
              "-4*x + 3*y - 5*z - 3"
            ],
            "text/latex": "$\\displaystyle - 4 x + 3 y - 5 z - 3$"
          },
          "metadata": {},
          "execution_count": 16
        }
      ]
    },
    {
      "cell_type": "code",
      "source": [
        "from sympy import *\n",
        "x, y, z = symbols('x y z')\n",
        "MP = Matrix([[x, y, z, 1], [-1, 3, 2, 1], [0, 1, 0, 1], [-2, 0, 1, 1]])\n",
        "det = MP.det()\n",
        "print(det)"
      ],
      "metadata": {
        "id": "XOzCBjSaayKe",
        "colab": {
          "base_uri": "https://localhost:8080/"
        },
        "outputId": "f54c6a83-4ec1-41b9-dd7f-42b3cc059245"
      },
      "execution_count": 15,
      "outputs": [
        {
          "output_type": "stream",
          "name": "stdout",
          "text": [
            "-4*x + 3*y - 5*z - 3\n"
          ]
        }
      ]
    },
    {
      "cell_type": "markdown",
      "source": [
        "# **Bài tập chương**\n",
        "\n"
      ],
      "metadata": {
        "id": "t8XSsCW3ZkXl"
      }
    },
    {
      "cell_type": "markdown",
      "source": [
        "# **Bài tập 1**"
      ],
      "metadata": {
        "id": "q1G_Fz8dZuH2"
      }
    },
    {
      "cell_type": "code",
      "source": [
        "from sympy import *\n",
        "A = Matrix([[2, -3, 1], [2, 0, -1], [1, 4, 5]])\n",
        "#a)\n",
        "print(\"Câu a)\")\n",
        "caua=A.cofactor_matrix()\n",
        "pprint(caua)\n",
        "#b)\n",
        "print(\"Câu b)\")\n",
        "caub=A.adjugate()\n",
        "pprint(caub)"
      ],
      "metadata": {
        "id": "YFSysmuHayIb",
        "colab": {
          "base_uri": "https://localhost:8080/"
        },
        "outputId": "c6cd36dd-68c4-4690-8a38-971eb5505f74"
      },
      "execution_count": 17,
      "outputs": [
        {
          "output_type": "stream",
          "name": "stdout",
          "text": [
            "Câu a)\n",
            "⎡4   -11   8 ⎤\n",
            "⎢            ⎥\n",
            "⎢19   9   -11⎥\n",
            "⎢            ⎥\n",
            "⎣3    4    6 ⎦\n",
            "Câu b)\n",
            "⎡ 4   19   3⎤\n",
            "⎢           ⎥\n",
            "⎢-11   9   4⎥\n",
            "⎢           ⎥\n",
            "⎣ 8   -11  6⎦\n"
          ]
        }
      ]
    },
    {
      "cell_type": "code",
      "source": [
        "x, y = symbols('x y')\n",
        "x1, y1 = 1, 1\n",
        "x2, y2 = 2, 4\n",
        "x3, y3 = 5, 3\n",
        "M = Matrix([[x**2 + y**2, x, y, 1], [x1**2 + y1**2, x1, y1, 1], [x2**2 + y2**2, x2, y2, 1], [x3**2 + y3**2, x3, y3, 1]])\n",
        "detM = M.det()\n",
        "Eq(detM, 0).doit()\n",
        "pprint(Eq(detM, 0))"
      ],
      "metadata": {
        "id": "Biw30xXqayEu",
        "colab": {
          "base_uri": "https://localhost:8080/"
        },
        "outputId": "b752570e-2dcf-42f3-b915-366dae6497c5"
      },
      "execution_count": 18,
      "outputs": [
        {
          "output_type": "stream",
          "name": "stdout",
          "text": [
            "      2              2                \n",
            "- 10⋅x  + 60⋅x - 10⋅y  + 40⋅y - 80 = 0\n"
          ]
        }
      ]
    },
    {
      "cell_type": "code",
      "source": [],
      "metadata": {
        "id": "_lNdMoRjayCy"
      },
      "execution_count": null,
      "outputs": []
    },
    {
      "cell_type": "code",
      "source": [],
      "metadata": {
        "id": "PVv5XOdOayAl"
      },
      "execution_count": null,
      "outputs": []
    }
  ]
}