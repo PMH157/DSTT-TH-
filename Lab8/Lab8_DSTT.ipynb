{
  "nbformat": 4,
  "nbformat_minor": 0,
  "metadata": {
    "colab": {
      "provenance": []
    },
    "kernelspec": {
      "name": "python3",
      "display_name": "Python 3"
    },
    "language_info": {
      "name": "python"
    }
  },
  "cells": [
    {
      "cell_type": "markdown",
      "source": [
        "# **1. Các bài toán cơ bản về không gian vector**"
      ],
      "metadata": {
        "id": "RC4udzYOxvhY"
      }
    },
    {
      "cell_type": "markdown",
      "source": [
        "Bài toán 1"
      ],
      "metadata": {
        "id": "1zvlsyqvl-sa"
      }
    },
    {
      "cell_type": "code",
      "execution_count": null,
      "metadata": {
        "colab": {
          "base_uri": "https://localhost:8080/"
        },
        "id": "GynRQKyYjk8B",
        "outputId": "710f6a8b-5d33-4875-a7c4-1e17f4097da6"
      },
      "outputs": [
        {
          "output_type": "stream",
          "name": "stdout",
          "text": [
            "[ 18 -11   9  -8]\n"
          ]
        }
      ],
      "source": [
        "#a. x = 2u − (v + 3w)\n",
        "import numpy as np\n",
        "u = np.array([2,-1,5,0])\n",
        "v = np.array([4,3,1,-1])\n",
        "w = np.array([-6,2,0,3])\n",
        "x = 2*u-(v+3*w)\n",
        "print(x)"
      ]
    },
    {
      "cell_type": "code",
      "source": [
        "#b. 3(x + w) = 2u − v + x\n",
        "x = 0.5*(2*u-v-3*w)\n",
        "print (x)"
      ],
      "metadata": {
        "colab": {
          "base_uri": "https://localhost:8080/"
        },
        "id": "frZYEZ-SkFvQ",
        "outputId": "a765ffb8-c103-494c-ed35-8fdf740d03b0"
      },
      "execution_count": null,
      "outputs": [
        {
          "output_type": "stream",
          "name": "stdout",
          "text": [
            "[ 9.  -5.5  4.5 -4. ]\n"
          ]
        }
      ]
    },
    {
      "cell_type": "markdown",
      "source": [
        "Bài toán 2"
      ],
      "metadata": {
        "id": "aQVpqyfjmn3d"
      }
    },
    {
      "cell_type": "code",
      "source": [
        "from numpy import linalg\n",
        "A = np.matrix([[0, -1, 3],[1, 1, 1],[4, 2, 2]])\n",
        "B = np.array([-1, -2, -2])\n",
        "X = np.linalg.solve(A, B)\n",
        "print (X)"
      ],
      "metadata": {
        "colab": {
          "base_uri": "https://localhost:8080/"
        },
        "id": "rsSbj__1kFsx",
        "outputId": "4b661558-4791-4553-f650-319b5caed6ad"
      },
      "execution_count": null,
      "outputs": [
        {
          "output_type": "stream",
          "name": "stdout",
          "text": [
            "[ 1. -2. -1.]\n"
          ]
        }
      ]
    },
    {
      "cell_type": "markdown",
      "source": [
        "Bài toán 3"
      ],
      "metadata": {
        "id": "X-vtENNKmzVt"
      }
    },
    {
      "cell_type": "code",
      "source": [
        "A = np.matrix([[1,0],[0,0]])\n",
        "B = np.matrix([[0,0],[0,1]])\n",
        "from numpy import linalg as LA\n",
        "#Phương pháp 1\n",
        "LA.inv(A) #LinAlgError\n",
        "LA.inv(B) #LinAlgError\n",
        "LA.inv(A+B)"
      ],
      "metadata": {
        "colab": {
          "base_uri": "https://localhost:8080/"
        },
        "id": "2pGT69pjkFqh",
        "outputId": "783c26ed-ae8c-4c0d-8dcc-aa77fbc5d9be"
      },
      "execution_count": null,
      "outputs": [
        {
          "output_type": "execute_result",
          "data": {
            "text/plain": [
              "matrix([[1., 0.],\n",
              "        [0., 1.]])"
            ]
          },
          "metadata": {},
          "execution_count": 14
        }
      ]
    },
    {
      "cell_type": "code",
      "source": [
        "#Phương pháp 2\n",
        "LA.det(A)\n",
        "LA.det(B)\n",
        "LA.det(A+B)"
      ],
      "metadata": {
        "colab": {
          "base_uri": "https://localhost:8080/"
        },
        "id": "m-sIRPq4kFn9",
        "outputId": "46c405a3-186f-4707-b7ec-9a6b555b8b60"
      },
      "execution_count": null,
      "outputs": [
        {
          "output_type": "execute_result",
          "data": {
            "text/plain": [
              "np.float64(1.0)"
            ]
          },
          "metadata": {},
          "execution_count": 16
        }
      ]
    },
    {
      "cell_type": "markdown",
      "source": [
        "Bài toán 4"
      ],
      "metadata": {
        "id": "WdfkBKXbn-gT"
      }
    },
    {
      "cell_type": "code",
      "source": [
        "import sympy as sp\n",
        "x, y = sp.symbols('x y') # khai báo 2 biến x và y\n",
        "A = sp.Matrix([[x, y],[y, x]]) # lưu ý: kiểu ma trận của sympy là ‘Matrix’ (viết hoa)\n",
        "x1, y1 = sp.symbols('x1 y1')\n",
        "A1 = sp.Matrix([[x1, y1],[y1, x1]])\n",
        "x2, y2 = sp.symbols('x2 y2')\n",
        "A2 = sp.Matrix([[x2, y2],[y2, x2]])\n",
        "A1.T"
      ],
      "metadata": {
        "colab": {
          "base_uri": "https://localhost:8080/",
          "height": 58
        },
        "id": "6c7QeKz1kFlb",
        "outputId": "07c4847b-6a49-4678-ea62-88cee4cfe2d6"
      },
      "execution_count": null,
      "outputs": [
        {
          "output_type": "execute_result",
          "data": {
            "text/plain": [
              "Matrix([\n",
              "[x1, y1],\n",
              "[y1, x1]])"
            ],
            "text/latex": "$\\displaystyle \\left[\\begin{matrix}x_{1} & y_{1}\\\\y_{1} & x_{1}\\end{matrix}\\right]$"
          },
          "metadata": {},
          "execution_count": 24
        }
      ]
    },
    {
      "cell_type": "code",
      "source": [
        "(A1+A2).T"
      ],
      "metadata": {
        "colab": {
          "base_uri": "https://localhost:8080/",
          "height": 58
        },
        "id": "t-0vbhDVkFi5",
        "outputId": "1474a45d-5561-4952-ff2c-449fda47bf4e"
      },
      "execution_count": null,
      "outputs": [
        {
          "output_type": "execute_result",
          "data": {
            "text/plain": [
              "Matrix([\n",
              "[x1 + x2, y1 + y2],\n",
              "[y1 + y2, x1 + x2]])"
            ],
            "text/latex": "$\\displaystyle \\left[\\begin{matrix}x_{1} + x_{2} & y_{1} + y_{2}\\\\y_{1} + y_{2} & x_{1} + x_{2}\\end{matrix}\\right]$"
          },
          "metadata": {},
          "execution_count": 23
        }
      ]
    },
    {
      "cell_type": "code",
      "source": [
        "((A1+A2).T).equals(A1+A2)"
      ],
      "metadata": {
        "colab": {
          "base_uri": "https://localhost:8080/"
        },
        "id": "1xGt5tkvkFgI",
        "outputId": "4244daef-d084-4318-9a72-a1948469340b"
      },
      "execution_count": null,
      "outputs": [
        {
          "output_type": "execute_result",
          "data": {
            "text/plain": [
              "True"
            ]
          },
          "metadata": {},
          "execution_count": 26
        }
      ]
    },
    {
      "cell_type": "code",
      "source": [
        "c = sp.symbols('c')\n",
        "c*A"
      ],
      "metadata": {
        "colab": {
          "base_uri": "https://localhost:8080/",
          "height": 58
        },
        "id": "Z7fcud8ykFdj",
        "outputId": "879c7d0e-eadc-40c6-9f00-b4c758d3135e"
      },
      "execution_count": null,
      "outputs": [
        {
          "output_type": "execute_result",
          "data": {
            "text/plain": [
              "Matrix([\n",
              "[c*x, c*y],\n",
              "[c*y, c*x]])"
            ],
            "text/latex": "$\\displaystyle \\left[\\begin{matrix}c x & c y\\\\c y & c x\\end{matrix}\\right]$"
          },
          "metadata": {},
          "execution_count": 29
        }
      ]
    },
    {
      "cell_type": "code",
      "source": [
        "((c*A).T).equals(c*A)"
      ],
      "metadata": {
        "colab": {
          "base_uri": "https://localhost:8080/"
        },
        "id": "ugwyDMEekFbO",
        "outputId": "4704559f-043f-4cf0-ce16-bec351a9fe6f"
      },
      "execution_count": null,
      "outputs": [
        {
          "output_type": "execute_result",
          "data": {
            "text/plain": [
              "True"
            ]
          },
          "metadata": {},
          "execution_count": 30
        }
      ]
    },
    {
      "cell_type": "markdown",
      "source": [
        "Bài toán 5"
      ],
      "metadata": {
        "id": "cgCeU-eOpDJY"
      }
    },
    {
      "cell_type": "code",
      "source": [
        "import numpy as np\n",
        "v1 = np.array([1, 2, 3])\n",
        "v2 = np.array([4, 5, 6])\n",
        "v3 = np.array([7, 8, 9])\n",
        "\n",
        "#a. Vector w = (1,1,1) là tổ hợp tuyến tính của 3 vector trên.\n",
        "w1 = np.array([1,1,1])\n",
        "\n",
        "# Câu b: Kiểm tra w = (1, -2, 2)\n",
        "w2 = np.array([1, -2, 2])\n",
        "\n",
        "# Hàm kiểm tra tổ hợp tuyến tính\n",
        "def check_linear_combination(A, w):\n",
        "    try:\n",
        "        c = np.linalg.solve(A, w)\n",
        "        print(f\"Vector {w} LÀ tổ hợp tuyến tính. Hệ số: {c}\")\n",
        "    except np.linalg.LinAlgError:\n",
        "        print(f\"Vector {w} KHÔNG là tổ hợp tuyến tính.\")\n",
        "\n",
        "# Thực hiện kiểm tra\n",
        "print(\"Câu a:\")\n",
        "check_linear_combination(A, w1)\n",
        "\n",
        "print(\"\\nCâu b:\")\n",
        "check_linear_combination(A, w2)"
      ],
      "metadata": {
        "colab": {
          "base_uri": "https://localhost:8080/"
        },
        "id": "4yjod8wHkFYk",
        "outputId": "09363e4d-83b1-4f7d-f231-6095b4d7c07c"
      },
      "execution_count": null,
      "outputs": [
        {
          "output_type": "stream",
          "name": "stdout",
          "text": [
            "Câu a:\n",
            "Vector [1 1 1] LÀ tổ hợp tuyến tính. Hệ số: [ 5.00000000e-01 -1.66533454e-16 -5.00000000e-01]\n",
            "\n",
            "Câu b:\n",
            "Vector [ 1 -2  2] LÀ tổ hợp tuyến tính. Hệ số: [ 3.15251974e+16 -6.30503948e+16  3.15251974e+16]\n"
          ]
        }
      ]
    },
    {
      "cell_type": "markdown",
      "source": [
        "Bài toán 6"
      ],
      "metadata": {
        "id": "Rro9geEUw1JD"
      }
    },
    {
      "cell_type": "code",
      "source": [
        "import sympy as sp\n",
        "c1, c2, c3 = sp.symbols('c1 c2 c3')\n",
        "sp.solve([c1-2*c3, 2*c1+c2, 3*c1+2*c2+c3], [c1, c2, c3])"
      ],
      "metadata": {
        "colab": {
          "base_uri": "https://localhost:8080/"
        },
        "id": "KvEx2tkwkFWO",
        "outputId": "6221010f-27ff-436a-deb7-def02d63ad1e"
      },
      "execution_count": null,
      "outputs": [
        {
          "output_type": "execute_result",
          "data": {
            "text/plain": [
              "{c1: 0, c2: 0, c3: 0}"
            ]
          },
          "metadata": {},
          "execution_count": 32
        }
      ]
    },
    {
      "cell_type": "markdown",
      "source": [
        "Bài toán 7"
      ],
      "metadata": {
        "id": "XEoCeeg-xC6C"
      }
    },
    {
      "cell_type": "code",
      "source": [
        "import sympy as sp\n",
        "c1, c2 = sp.symbols('c1 c2')\n",
        "u1, u2 = sp.symbols('u1 u2')\n",
        "sp.solve([c1+c2-u1,c1-c2-u2])\n",
        "u1 = 2\n",
        "u2 = 5\n",
        "sp.solve([c1+c2-u1,c1-c2-u2])"
      ],
      "metadata": {
        "colab": {
          "base_uri": "https://localhost:8080/"
        },
        "id": "L0Z-L_iKkFTt",
        "outputId": "53e2a1cf-868e-4691-cd41-7ee7c9e6a5b8"
      },
      "execution_count": null,
      "outputs": [
        {
          "output_type": "execute_result",
          "data": {
            "text/plain": [
              "{c1: 7/2, c2: -3/2}"
            ]
          },
          "metadata": {},
          "execution_count": 35
        }
      ]
    },
    {
      "cell_type": "markdown",
      "source": [
        "# **2. Ánh xạ tuyến tính**\n"
      ],
      "metadata": {
        "id": "mUa826C5yr1y"
      }
    },
    {
      "cell_type": "markdown",
      "source": [
        "2.2.Bài toán ứng dụng: Ma trận biến đổi (ảnh/font chữ/…)\n",
        "\n",
        "a. Biến đổi tịnh tiến."
      ],
      "metadata": {
        "id": "r2FSboZwy0vF"
      }
    },
    {
      "cell_type": "code",
      "source": [
        "import numpy as np\n",
        "P = np.array([[0,0,3,3,1,1,2,2,1,1],[0,5,5,4,4,3,3,2,2,0]])\n",
        "vecdelta = np.array([4,2])\n",
        "P_caua = (P.T + vecdelta).T\n",
        "print (P_caua)"
      ],
      "metadata": {
        "colab": {
          "base_uri": "https://localhost:8080/"
        },
        "id": "e6iu8EtnkFRU",
        "outputId": "b9bdb66f-186c-4f5a-d752-1d8ca75da8ca"
      },
      "execution_count": null,
      "outputs": [
        {
          "output_type": "stream",
          "name": "stdout",
          "text": [
            "[[4 4 7 7 5 5 6 6 5 5]\n",
            " [2 7 7 6 6 5 5 4 4 2]]\n"
          ]
        }
      ]
    },
    {
      "cell_type": "markdown",
      "source": [
        "b. Biến đổi tịnh tiến và co giãn."
      ],
      "metadata": {
        "id": "vR0BlK52zOGh"
      }
    },
    {
      "cell_type": "code",
      "source": [
        "himport numpy as np\n",
        "P = np.array([[0,0,3,3,1,1,2,2,1,1],[0,5,5,4,4,3,3,2,2,0]])\n",
        "vecdelta = np.array([4,-2])\n",
        "matran_biendoi = np.array([[1.0, 0.0],\n",
        "                            [0.0, 2.0]])\n",
        "P_caub = (P.T @ matran_biendoi + vecdelta).T\n",
        "print (P_caub)"
      ],
      "metadata": {
        "colab": {
          "base_uri": "https://localhost:8080/"
        },
        "id": "_GUL1inrkFOp",
        "outputId": "e5c1b941-bb12-45eb-fba3-3e88d69d85c2"
      },
      "execution_count": null,
      "outputs": [
        {
          "output_type": "stream",
          "name": "stdout",
          "text": [
            "[[ 4.  4.  7.  7.  5.  5.  6.  6.  5.  5.]\n",
            " [-2.  8.  8.  6.  6.  4.  4.  2.  2. -2.]]\n"
          ]
        }
      ]
    },
    {
      "cell_type": "markdown",
      "source": [
        "# **BÀI TẬP CHƯƠNG**"
      ],
      "metadata": {
        "id": "5bi6WUaHzcvU"
      }
    },
    {
      "cell_type": "code",
      "source": [
        "from sympy import symbols, Matrix, simplify\n",
        "x, y, z, a, b, c = symbols('x y z a b c')\n",
        "def g(v):\n",
        "    x, y, z = v\n",
        "    return Matrix([x + y, z + 2, 0])\n",
        "u = Matrix([x, y, z])\n",
        "v = Matrix([a, b, c])\n",
        "left1 = g(u + v)\n",
        "right1 = g(u) + g(v)\n",
        "\n",
        "left2 = g(2 * u)\n",
        "right2 = 2 * g(u)\n",
        "print(\"g(u + v) == g(u) + g(v):\", simplify(left1 - right1) == Matrix([0,0,0]))\n",
        "print(\"g(c * u) == c * g(u):\", simplify(left2 - right2) == Matrix([0,0,0]))"
      ],
      "metadata": {
        "id": "BPgiIAu1zciF",
        "colab": {
          "base_uri": "https://localhost:8080/"
        },
        "outputId": "c6b387bf-7f7d-470f-9e0b-da23a3086f0e"
      },
      "execution_count": 3,
      "outputs": [
        {
          "output_type": "stream",
          "name": "stdout",
          "text": [
            "g(u + v) == g(u) + g(v): False\n",
            "g(c * u) == c * g(u): False\n"
          ]
        }
      ]
    },
    {
      "cell_type": "code",
      "source": [
        "from sympy import Matrix\n",
        "A = Matrix([[0, 1],\n",
        "            [1, -1]])\n",
        "F = [\n",
        "    Matrix([0, 0]),\n",
        "    Matrix([1, 0]),\n",
        "    Matrix([1, 1]),\n",
        "    Matrix([0, 1])\n",
        "]\n",
        "transformed_F = [A * point for point in F]\n",
        "print(\"Tọa độ sau khi biến đổi:\")\n",
        "for i, point in enumerate(transformed_F):\n",
        "    print(f\"f(F[{i}]) = {point}\")\n"
      ],
      "metadata": {
        "id": "gGsTbfUyzcfz",
        "colab": {
          "base_uri": "https://localhost:8080/"
        },
        "outputId": "531d283b-6166-4051-fdfe-e935777d094e"
      },
      "execution_count": 4,
      "outputs": [
        {
          "output_type": "stream",
          "name": "stdout",
          "text": [
            "Tọa độ sau khi biến đổi:\n",
            "f(F[0]) = Matrix([[0], [0]])\n",
            "f(F[1]) = Matrix([[0], [1]])\n",
            "f(F[2]) = Matrix([[1], [0]])\n",
            "f(F[3]) = Matrix([[1], [-1]])\n"
          ]
        }
      ]
    },
    {
      "cell_type": "code",
      "source": [
        "from sympy import Matrix, symbols, simplify\n",
        "v1, v2, u1, u2, c = symbols('v1 v2 u1 u2 c')\n",
        "def T(v):\n",
        "    return Matrix([v[0] - v[1], v[0] + 2*v[1]])\n",
        "u = Matrix([u1, u2])\n",
        "v = Matrix([v1, v2])\n",
        "left1 = T(u + v)\n",
        "right1 = T(u) + T(v)\n",
        "left2 = T(c * u)\n",
        "right2 = c * T(u)\n",
        "print(\"T(u + v) == T(u) + T(v):\", simplify(left1 - right1) == Matrix([0, 0]))\n",
        "print(\"T(c * u) == c * T(u):\", simplify(left2 - right2) == Matrix([0, 0]))"
      ],
      "metadata": {
        "id": "_gNwh5TDzcdm",
        "colab": {
          "base_uri": "https://localhost:8080/"
        },
        "outputId": "bf06733b-a743-440a-b0f2-bb808d72eb06"
      },
      "execution_count": 5,
      "outputs": [
        {
          "output_type": "stream",
          "name": "stdout",
          "text": [
            "T(u + v) == T(u) + T(v): True\n",
            "T(c * u) == c * T(u): True\n"
          ]
        }
      ]
    },
    {
      "cell_type": "code",
      "source": [
        "from sympy import *\n",
        "import numpy as np\n",
        "x, y = symbols('x y')\n",
        "X = Matrix([x, y])\n",
        "A = Matrix([[13, -5], [-5, 13]])\n",
        "eigenvals = A.eigenvals()\n",
        "eigenvects = A.eigenvects()\n",
        "print(\"Giá trị riêng:\", eigenvals)\n",
        "P, D = A.diagonalize(normalize=True)\n",
        "print(\"Ma trận P (trực giao):\")\n",
        "pprint(P)\n",
        "print(\"Ma trận D (chéo):\")\n",
        "pprint(D)\n",
        "possible_angles = [pi/4, 3*pi/4, 7*pi/4]\n",
        "for angle in possible_angles:\n",
        "    P_test = Matrix([[cos(angle), -sin(angle)],\n",
        "                     [sin(angle), cos(angle)]])\n",
        "    D_test = P_test.T * A * P_test\n",
        "    print(f\"\\nKiểm tra góc {angle*180/pi.evalf()}°:\")\n",
        "    pprint(D_test)"
      ],
      "metadata": {
        "id": "vI_ZJ-KfzcbR",
        "colab": {
          "base_uri": "https://localhost:8080/"
        },
        "outputId": "4628c37d-9e89-4b8c-c7b5-91107a2ceae0"
      },
      "execution_count": 7,
      "outputs": [
        {
          "output_type": "stream",
          "name": "stdout",
          "text": [
            "Giá trị riêng: {18: 1, 8: 1}\n",
            "Ma trận P (trực giao):\n",
            "⎡√2  -√2 ⎤\n",
            "⎢──  ────⎥\n",
            "⎢2    2  ⎥\n",
            "⎢        ⎥\n",
            "⎢√2   √2 ⎥\n",
            "⎢──   ── ⎥\n",
            "⎣2    2  ⎦\n",
            "Ma trận D (chéo):\n",
            "⎡8  0 ⎤\n",
            "⎢     ⎥\n",
            "⎣0  18⎦\n",
            "\n",
            "Kiểm tra góc 14.3239448782706*pi°:\n",
            "⎡8  0 ⎤\n",
            "⎢     ⎥\n",
            "⎣0  18⎦\n",
            "\n",
            "Kiểm tra góc 42.9718346348117*pi°:\n",
            "⎡18  0⎤\n",
            "⎢     ⎥\n",
            "⎣0   8⎦\n",
            "\n",
            "Kiểm tra góc 100.267614147894*pi°:\n",
            "⎡18  0⎤\n",
            "⎢     ⎥\n",
            "⎣0   8⎦\n"
          ]
        }
      ]
    },
    {
      "cell_type": "code",
      "source": [],
      "metadata": {
        "id": "RL5BNgVkkFMb"
      },
      "execution_count": null,
      "outputs": []
    }
  ]
}