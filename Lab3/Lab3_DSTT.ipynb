{
  "nbformat": 4,
  "nbformat_minor": 0,
  "metadata": {
    "colab": {
      "provenance": []
    },
    "kernelspec": {
      "name": "python3",
      "display_name": "Python 3"
    },
    "language_info": {
      "name": "python"
    }
  },
  "cells": [
    {
      "cell_type": "markdown",
      "source": [
        "# **Câu 1**"
      ],
      "metadata": {
        "id": "qTbTQmmbWL4Q"
      }
    },
    {
      "cell_type": "code",
      "execution_count": null,
      "metadata": {
        "colab": {
          "base_uri": "https://localhost:8080/"
        },
        "id": "MH662a3EO5L5",
        "outputId": "2d909ae1-baf8-4910-c024-3dc68680c799"
      },
      "outputs": [
        {
          "output_type": "stream",
          "name": "stdout",
          "text": [
            "[[0.08768658 0.85389179]\n",
            " [0.17440832 0.89708995]]\n",
            "[[1.+9.j 0.+2.j 0.+3.j]\n",
            " [0.+4.j 0.+5.j 0.+6.j]]\n",
            "[[0.60008778 0.69708346 0.59792896 0.9814703  0.81626453]\n",
            " [0.61951563 0.61026373 0.59760136 0.90467978 0.48999198]\n",
            " [0.48047881 0.18958441 0.55686788 0.12355531 0.45074688]\n",
            " [0.68547604 0.42730315 0.85917049 0.57825634 0.29294447]\n",
            " [0.01635153 0.36363414 0.36796278 0.83092693 0.80189613]\n",
            " [0.87611558 0.01443622 0.36191822 0.84085976 0.60115278]\n",
            " [0.0469573  0.78439053 0.09254484 0.53408766 0.35825659]\n",
            " [0.09229271 0.60205846 0.70113567 0.21098938 0.8917945 ]\n",
            " [0.66904666 0.77699982 0.46057509 0.05039395 0.01935813]\n",
            " [0.49809907 0.27505605 0.37708976 0.25953115 0.70257396]]\n",
            "[[4 3]\n",
            " [2 6]]\n",
            "[[0. 1. 0.]\n",
            " [0. 0. 1.]\n",
            " [0. 0. 0.]]\n"
          ]
        }
      ],
      "source": [
        "from scipy import linalg\n",
        "import numpy as np\n",
        "a = np.array([1, 2, 3])\n",
        "b = np.array([(1+9j, 2j, 3j), (4j, 5j, 6j)])\n",
        "c = np.array([[ (0.5, 1.5, 10), (3,2,1) ] , [(6,5,4), (7,8,9)]])\n",
        "A = np.matrix(np.random.random( (2,2) ) )\n",
        "B = np.asmatrix(b)\n",
        "C = np.asmatrix(np.random.random( (10,5) ) )\n",
        "D = np.asmatrix([ [4, 3], [2, 6] ])\n",
        "F = np.eye(3, k=1)\n",
        "print(A)\n",
        "print(B)\n",
        "print(C)\n",
        "print(D)\n",
        "print(F)"
      ]
    },
    {
      "cell_type": "code",
      "source": [
        "F = np.eye(3, k=0)\n",
        "print(F)"
      ],
      "metadata": {
        "colab": {
          "base_uri": "https://localhost:8080/"
        },
        "id": "HBJCv-ZtSG5s",
        "outputId": "39d12738-8c30-4ccc-a920-260f055a431a"
      },
      "execution_count": null,
      "outputs": [
        {
          "output_type": "stream",
          "name": "stdout",
          "text": [
            "[[1. 0. 0.]\n",
            " [0. 1. 0.]\n",
            " [0. 0. 1.]]\n"
          ]
        }
      ]
    },
    {
      "cell_type": "code",
      "source": [
        "F = np.eye(3, k=-1)\n",
        "print(F)"
      ],
      "metadata": {
        "colab": {
          "base_uri": "https://localhost:8080/"
        },
        "id": "8aOInXTuSG0s",
        "outputId": "e01bef9f-ca61-4e91-a998-a0169fbed758"
      },
      "execution_count": null,
      "outputs": [
        {
          "output_type": "stream",
          "name": "stdout",
          "text": [
            "[[0. 0. 0.]\n",
            " [1. 0. 0.]\n",
            " [0. 1. 0.]]\n"
          ]
        }
      ]
    },
    {
      "cell_type": "code",
      "source": [
        "#Xem hạng ma trận\n",
        "print('Hạng của ma trận',np.linalg.matrix_rank(C))"
      ],
      "metadata": {
        "colab": {
          "base_uri": "https://localhost:8080/"
        },
        "id": "fwLeJHyjSGxz",
        "outputId": "17c5c52b-246f-4be6-d331-8a1075752864"
      },
      "execution_count": null,
      "outputs": [
        {
          "output_type": "stream",
          "name": "stdout",
          "text": [
            "5\n"
          ]
        }
      ]
    },
    {
      "cell_type": "code",
      "source": [
        "#Ma trận nghịch đảo\n",
        "print(A.I)"
      ],
      "metadata": {
        "colab": {
          "base_uri": "https://localhost:8080/"
        },
        "id": "bXyAjG7PSGvL",
        "outputId": "686c176b-e0b0-4a02-8a83-a1a968d3346d"
      },
      "execution_count": null,
      "outputs": [
        {
          "output_type": "stream",
          "name": "stdout",
          "text": [
            "[[-12.76758553  12.15277967]\n",
            " [  2.48221835  -1.24797505]]\n"
          ]
        }
      ]
    },
    {
      "cell_type": "code",
      "source": [
        "#Lệnh của gói Scipy\n",
        "print(linalg.inv(A))"
      ],
      "metadata": {
        "colab": {
          "base_uri": "https://localhost:8080/"
        },
        "id": "_xomimsFSFt7",
        "outputId": "4e65f392-9eeb-467a-a682-da8fc22861d8"
      },
      "execution_count": null,
      "outputs": [
        {
          "output_type": "stream",
          "name": "stdout",
          "text": [
            "[[-12.76758553  12.15277967]\n",
            " [  2.48221835  -1.24797505]]\n"
          ]
        }
      ]
    },
    {
      "cell_type": "code",
      "source": [
        "#Định thức ma trận\n",
        "print(linalg.det(A))"
      ],
      "metadata": {
        "colab": {
          "base_uri": "https://localhost:8080/"
        },
        "id": "TiEjGn27SFrw",
        "outputId": "4ba0c57b-bdb6-40a3-a599-1a33734f1983"
      },
      "execution_count": null,
      "outputs": [
        {
          "output_type": "stream",
          "name": "stdout",
          "text": [
            "-0.0702630848375403\n"
          ]
        }
      ]
    },
    {
      "cell_type": "code",
      "source": [
        "#Chuyển đổi ma trận(chuyển vị)\n",
        "A.T"
      ],
      "metadata": {
        "colab": {
          "base_uri": "https://localhost:8080/"
        },
        "id": "4SCsxpnnSFpP",
        "outputId": "c22dae6d-4088-4bbf-e286-df55c2444da6"
      },
      "execution_count": null,
      "outputs": [
        {
          "output_type": "execute_result",
          "data": {
            "text/plain": [
              "matrix([[0.08768658, 0.17440832],\n",
              "        [0.85389179, 0.89708995]])"
            ]
          },
          "metadata": {},
          "execution_count": 11
        }
      ]
    },
    {
      "cell_type": "code",
      "source": [
        "#Chuyển vị liên hợp\n",
        "A.H"
      ],
      "metadata": {
        "colab": {
          "base_uri": "https://localhost:8080/"
        },
        "id": "MzY_X_FQSFnI",
        "outputId": "bc6669be-af5b-43fc-8f0b-1ac1418f6e52"
      },
      "execution_count": null,
      "outputs": [
        {
          "output_type": "execute_result",
          "data": {
            "text/plain": [
              "matrix([[0.08768658, 0.17440832],\n",
              "        [0.85389179, 0.89708995]])"
            ]
          },
          "metadata": {},
          "execution_count": 12
        }
      ]
    },
    {
      "cell_type": "code",
      "source": [
        "linalg.solve(A, b)"
      ],
      "metadata": {
        "colab": {
          "base_uri": "https://localhost:8080/"
        },
        "id": "6_Qhd14gSFkt",
        "outputId": "cfa35830-c86d-4391-b771-7b5d8df50977"
      },
      "execution_count": null,
      "outputs": [
        {
          "output_type": "execute_result",
          "data": {
            "text/plain": [
              "array([[-12.76758553-6.62971511e+01j,   0.        +3.52287273e+01j,\n",
              "          0.        +3.46139214e+01j],\n",
              "       [  2.48221835+1.73480650e+01j,   0.        -1.27543854e+00j,\n",
              "          0.        -4.11952338e-02j]])"
            ]
          },
          "metadata": {},
          "execution_count": 13
        }
      ]
    },
    {
      "cell_type": "code",
      "source": [
        "E = np.asmatrix(a).T\n",
        "print(E)"
      ],
      "metadata": {
        "colab": {
          "base_uri": "https://localhost:8080/"
        },
        "id": "9XQ8aAtMSFid",
        "outputId": "c40c85cb-8e11-4c34-e046-242e65ac2198"
      },
      "execution_count": null,
      "outputs": [
        {
          "output_type": "stream",
          "name": "stdout",
          "text": [
            "[[1]\n",
            " [2]\n",
            " [3]]\n"
          ]
        }
      ]
    },
    {
      "cell_type": "code",
      "source": [
        "linalg.lstsq(F, E)"
      ],
      "metadata": {
        "colab": {
          "base_uri": "https://localhost:8080/"
        },
        "id": "YLN1MD_mSFf0",
        "outputId": "6f6f5413-6b25-430f-f24e-ae94388a97d2"
      },
      "execution_count": null,
      "outputs": [
        {
          "output_type": "execute_result",
          "data": {
            "text/plain": [
              "(array([[2.],\n",
              "        [3.],\n",
              "        [0.]]),\n",
              " array([], dtype=float64),\n",
              " 2,\n",
              " array([1., 1., 0.]))"
            ]
          },
          "metadata": {},
          "execution_count": 17
        }
      ]
    },
    {
      "cell_type": "code",
      "source": [
        "#Cộng ma trận\n",
        "np.add(A, D)"
      ],
      "metadata": {
        "colab": {
          "base_uri": "https://localhost:8080/"
        },
        "id": "IgIjdZslSFdi",
        "outputId": "4e38a9b8-236c-4681-ab79-453b22b3bf73"
      },
      "execution_count": null,
      "outputs": [
        {
          "output_type": "execute_result",
          "data": {
            "text/plain": [
              "matrix([[4.08768658, 3.85389179],\n",
              "        [2.17440832, 6.89708995]])"
            ]
          },
          "metadata": {},
          "execution_count": 18
        }
      ]
    },
    {
      "cell_type": "code",
      "source": [
        "#Trừ ma trận\n",
        "np.subtract(A, D)"
      ],
      "metadata": {
        "colab": {
          "base_uri": "https://localhost:8080/"
        },
        "id": "dTYlmdfYSFbE",
        "outputId": "deb3fb48-d5dd-4000-d2ac-bb12dcf53758"
      },
      "execution_count": null,
      "outputs": [
        {
          "output_type": "execute_result",
          "data": {
            "text/plain": [
              "matrix([[-3.91231342, -2.14610821],\n",
              "        [-1.82559168, -5.10291005]])"
            ]
          },
          "metadata": {},
          "execution_count": 19
        }
      ]
    },
    {
      "cell_type": "code",
      "source": [
        "#Chia ma trận\n",
        "np.divide(A, D)"
      ],
      "metadata": {
        "colab": {
          "base_uri": "https://localhost:8080/"
        },
        "id": "999Zixn6SFYr",
        "outputId": "b0794ce1-a988-4849-ff19-90e36788ce62"
      },
      "execution_count": null,
      "outputs": [
        {
          "output_type": "execute_result",
          "data": {
            "text/plain": [
              "matrix([[0.02192164, 0.2846306 ],\n",
              "        [0.08720416, 0.14951499]])"
            ]
          },
          "metadata": {},
          "execution_count": 20
        }
      ]
    },
    {
      "cell_type": "code",
      "source": [
        "#Nhân ma trận\n",
        "A @ D #Phiên bản Py 3.x\n",
        "np.multiply(D, A)\n",
        "np.dot(D, A)"
      ],
      "metadata": {
        "colab": {
          "base_uri": "https://localhost:8080/"
        },
        "id": "B8o7-5dcSFWK",
        "outputId": "3c6f34f5-73dd-4939-f80a-ca13b788ef56"
      },
      "execution_count": null,
      "outputs": [
        {
          "output_type": "execute_result",
          "data": {
            "text/plain": [
              "matrix([[0.87397126, 6.10683699],\n",
              "        [1.22182306, 7.09032325]])"
            ]
          },
          "metadata": {},
          "execution_count": 25
        }
      ]
    },
    {
      "cell_type": "code",
      "source": [
        "#Hàm lũy thừa ma trận\n",
        "linalg.expm(A)\n",
        "#Hàm logarith ma trận\n",
        "linalg.logm(A)"
      ],
      "metadata": {
        "colab": {
          "base_uri": "https://localhost:8080/"
        },
        "id": "LFuvHeK_SFT4",
        "outputId": "66dae9ef-920c-47d0-bf18-ecf515a0eb00"
      },
      "execution_count": null,
      "outputs": [
        {
          "output_type": "execute_result",
          "data": {
            "text/plain": [
              "array([[-2.32507026+2.70759747j,  2.10426564-2.39856961j],\n",
              "       [ 0.42979853-0.48991043j, -0.33043847+0.43399519j]])"
            ]
          },
          "metadata": {},
          "execution_count": 27
        }
      ]
    },
    {
      "cell_type": "markdown",
      "source": [
        "# **Câu 2**"
      ],
      "metadata": {
        "id": "YjobWeWPWPNs"
      }
    },
    {
      "cell_type": "code",
      "source": [
        "import numpy as np\n",
        "#Tính ma trận A\n",
        "A = np.array([ [0,1], [1,0]])\n",
        "print(A)\n",
        "temp = A.dot(A) # tính toan lần thứ 1\n",
        "print(temp)\n",
        "k = 6\n",
        "for i in range(k-1):\n",
        "  temp = temp.dot(A)\n",
        "print (temp)\n",
        "print('---')\n",
        "#Tính ma trận B\n",
        "B = np.array([ [0,-1], [-1,0]])\n",
        "print(B)\n",
        "temp = B.dot(B) # tính toan lần thứ 1\n",
        "print(temp)\n",
        "k= 5\n",
        "for i in range(k-1):\n",
        "  temp = temp.dot(B)\n",
        "print (temp)\n",
        "print('---')\n",
        "#Ma trận hội tụ\n",
        "C = np.array([ [1, 0, 0], [0, 0.5, 1], [0, 0, 0.5] ])\n",
        "print(C)\n",
        "temp = C.dot(C) # tính toan lần thứ 1\n",
        "print(temp)\n",
        "k= 1000\n",
        "for i in range(k-1):\n",
        "  temp = temp.dot(C)\n",
        "print(temp)\n",
        "k= 1000\n",
        "for i in range(k-1):\n",
        "  temp = temp.dot(C)\n",
        "print(temp)"
      ],
      "metadata": {
        "colab": {
          "base_uri": "https://localhost:8080/"
        },
        "id": "R__km6UoSFRW",
        "outputId": "995a8647-fdbf-4d17-a3de-4e9e4b67429c"
      },
      "execution_count": null,
      "outputs": [
        {
          "output_type": "stream",
          "name": "stdout",
          "text": [
            "[[0 1]\n",
            " [1 0]]\n",
            "[[1 0]\n",
            " [0 1]]\n",
            "[[0 1]\n",
            " [1 0]]\n",
            "---\n",
            "[[ 0 -1]\n",
            " [-1  0]]\n",
            "[[1 0]\n",
            " [0 1]]\n",
            "[[1 0]\n",
            " [0 1]]\n",
            "---\n",
            "[[1.  0.  0. ]\n",
            " [0.  0.5 1. ]\n",
            " [0.  0.  0.5]]\n",
            "[[1.   0.   0.  ]\n",
            " [0.   0.25 1.  ]\n",
            " [0.   0.   0.25]]\n",
            "[[1.00000000e+000 0.00000000e+000 0.00000000e+000]\n",
            " [0.00000000e+000 4.66631809e-302 9.34196882e-299]\n",
            " [0.00000000e+000 0.00000000e+000 4.66631809e-302]]\n",
            "[[1. 0. 0.]\n",
            " [0. 0. 0.]\n",
            " [0. 0. 0.]]\n"
          ]
        }
      ]
    },
    {
      "cell_type": "code",
      "source": [
        "#Ma trận Markov\n",
        "M = np.array([ [0.8, 0.3], [0.2, 0.7]])\n",
        "MM = M.dot(M) # tính M2, nghĩa là M2\n",
        "print (MM)\n",
        "MMM = M.dot(MM) # tính M3\n",
        "print (MMM)\n",
        "for i in range(100): # tính các M^ khác.\n",
        "  MM = MM.dot(M)\n",
        "print (MM) # kết luận xu hướng của M mũ vô hạn"
      ],
      "metadata": {
        "colab": {
          "base_uri": "https://localhost:8080/"
        },
        "id": "7R13gCN2SFOx",
        "outputId": "f7372e22-3c8d-4f4f-8456-70a4c048060c"
      },
      "execution_count": null,
      "outputs": [
        {
          "output_type": "stream",
          "name": "stdout",
          "text": [
            "[[0.7  0.45]\n",
            " [0.3  0.55]]\n",
            "[[0.65  0.525]\n",
            " [0.35  0.475]]\n",
            "[[0.6 0.6]\n",
            " [0.4 0.4]]\n"
          ]
        }
      ]
    },
    {
      "cell_type": "markdown",
      "source": [
        "# **Câu 3**"
      ],
      "metadata": {
        "id": "WeX3YTpJcWT2"
      }
    },
    {
      "cell_type": "code",
      "source": [
        "#Phân rã ma trận LU\n",
        "M = np.array([ [0.8, 0.3], [0.2, 0.7]])\n",
        "P, L, U = linalg.lu(M) # lệnh lina.lu sẽ tách ma trận M thành 3 ma trận P, L và U\n",
        "print (P)\n",
        "print (L)\n",
        "print (U)\n",
        "L.dot(U)"
      ],
      "metadata": {
        "colab": {
          "base_uri": "https://localhost:8080/"
        },
        "id": "CwaKX17CSFMi",
        "outputId": "1699f697-b2b7-4b5d-c189-1c4b6d4bf94c"
      },
      "execution_count": null,
      "outputs": [
        {
          "output_type": "stream",
          "name": "stdout",
          "text": [
            "[[1. 0.]\n",
            " [0. 1.]]\n",
            "[[1.   0.  ]\n",
            " [0.25 1.  ]]\n",
            "[[0.8   0.3  ]\n",
            " [0.    0.625]]\n"
          ]
        },
        {
          "output_type": "execute_result",
          "data": {
            "text/plain": [
              "array([[0.8, 0.3],\n",
              "       [0.2, 0.7]])"
            ]
          },
          "metadata": {},
          "execution_count": 37
        }
      ]
    },
    {
      "cell_type": "markdown",
      "source": [
        "# **Câu 5**"
      ],
      "metadata": {
        "id": "4C0dxQgdcpE7"
      }
    },
    {
      "cell_type": "code",
      "source": [
        "#Bài toán loan tin\n",
        "A = np.array([ [0,1,0,1],[0,0,1,0],[1,0,0,1],[1,1,0,0]])\n",
        "temp = A.dot(A) # lúc này temp =› A^2\n",
        "print(temp)\n",
        "temp = temp.dot(A) # lúc này temp =› A^3\n",
        "print(temp)"
      ],
      "metadata": {
        "colab": {
          "base_uri": "https://localhost:8080/"
        },
        "id": "n8kyUwOeSFF9",
        "outputId": "29da4dce-72d6-4ff3-8d37-9e02a8c7eb2b"
      },
      "execution_count": null,
      "outputs": [
        {
          "output_type": "stream",
          "name": "stdout",
          "text": [
            "[[1 1 1 0]\n",
            " [1 0 0 1]\n",
            " [1 2 0 1]\n",
            " [0 1 1 1]]\n",
            "[[1 1 1 2]\n",
            " [1 2 0 1]\n",
            " [1 2 2 1]\n",
            " [2 1 1 1]]\n"
          ]
        }
      ]
    },
    {
      "cell_type": "code",
      "source": [
        "A = np.array([ [0,1,0,1],[0,0,1,0],[1,0,0,1],[1,1,0,0]])\n",
        "sumA = A\n",
        "temp = A.dot(A)\n",
        "k = 3\n",
        "sumA = sumA + temp\n",
        "for i in range(1, k-1):\n",
        "  temp = temp.dot(A)\n",
        "sumA = sumA + temp\n",
        "print (temp)\n",
        "print('---')\n",
        "print (sumA)"
      ],
      "metadata": {
        "colab": {
          "base_uri": "https://localhost:8080/"
        },
        "id": "kUkrgYa8c_I8",
        "outputId": "df72628c-5077-4f52-c2ef-9240f2e99d0d"
      },
      "execution_count": null,
      "outputs": [
        {
          "output_type": "stream",
          "name": "stdout",
          "text": [
            "[[1 1 1 2]\n",
            " [1 2 0 1]\n",
            " [1 2 2 1]\n",
            " [2 1 1 1]]\n",
            "---\n",
            "[[2 3 2 3]\n",
            " [2 2 1 2]\n",
            " [3 4 2 3]\n",
            " [3 3 2 2]]\n"
          ]
        }
      ]
    },
    {
      "cell_type": "markdown",
      "source": [
        "# **Bài tập chương 3**"
      ],
      "metadata": {
        "id": "z2EI3_1rYoha"
      }
    },
    {
      "cell_type": "markdown",
      "source": [
        "Câu 1"
      ],
      "metadata": {
        "id": "xr9mCkIxPeAA"
      }
    },
    {
      "cell_type": "code",
      "source": [
        "import numpy as np\n",
        "\n",
        "def la_ma_tran_kha_nghich(ma_tran):\n",
        "    try:\n",
        "        np.linalg.inv(ma_tran)\n",
        "        return True\n",
        "    except np.linalg.LinAlgError:\n",
        "        return False\n",
        "\n",
        "def chuoi_thanh_ma_tran(chuoi):\n",
        "    ma_ascii = [ord(ky_tu) for ky_tu in chuoi]\n",
        "    while len(ma_ascii) % 3 != 0:\n",
        "        ma_ascii.append(0)\n",
        "    return np.array(ma_ascii).reshape(-1, 3)\n",
        "\n",
        "def ma_tran_thanh_chuoi(ma_tran):\n",
        "    ky_tu = [chr(int(round(so))) for dong in ma_tran for so in dong if int(round(so)) != 0]\n",
        "    return ''.join(ky_tu)\n",
        "\n",
        "def main():\n",
        "    print(\"=== CHƯƠNG TRÌNH MÃ HÓA & GIẢI MÃ SỬ DỤNG MA TRẬN 3x3 ===\\n\")\n",
        "\n",
        "    # a. Tự chọn một ma trận khả nghịch\n",
        "    ma_tran_khoa = np.array([[2, -1, 0],[1, 1, 1],[0, -1, 2] ])\n",
        "    print(f\" Ma trận khóa được chọn:\\n{ma_tran_khoa}\\n\")\n",
        "\n",
        "    if la_ma_tran_kha_nghich(ma_tran_khoa):\n",
        "        print(\" Ma trận khả nghịch (có thể giải mã)\\n\")\n",
        "    else:\n",
        "        print(\" Ma trận không khả nghịch\")\n",
        "        return\n",
        "\n",
        "    # b. Nhập họ tên hoặc mã số sinh viên\n",
        "    chuoi_goc = input(\"Nhập họ tên hoặc mã số sinh viên: \")\n",
        "\n",
        "    # c. Mã hóa\n",
        "    ma_tran_du_lieu = chuoi_thanh_ma_tran(chuoi_goc)\n",
        "    print(f\"\\n Ma trận ASCII từ chuỗi:\\n{ma_tran_du_lieu}\")\n",
        "\n",
        "    ma_tran_ma_hoa = ma_tran_du_lieu @ ma_tran_khoa\n",
        "    print(f\"\\n Kết quả mã hóa:\\n{ma_tran_ma_hoa}\")\n",
        "\n",
        "    # d. Giải mã\n",
        "    ma_tran_khoa_nghich = np.linalg.inv(ma_tran_khoa)\n",
        "    ma_tran_giai_ma = ma_tran_ma_hoa @ ma_tran_khoa_nghich\n",
        "    print(f\"\\n Ma trận sau giải mã:\\n{ma_tran_giai_ma}\")\n",
        "\n",
        "    chuoi_khoi_phuc = ma_tran_thanh_chuoi(ma_tran_giai_ma)\n",
        "    print(f\"\\n Chuỗi sau khi giải mã: {chuoi_khoi_phuc}\")\n",
        "if __name__ == \"__main__\":\n",
        "    main()"
      ],
      "metadata": {
        "id": "I9h2B_fzc_GM",
        "colab": {
          "base_uri": "https://localhost:8080/"
        },
        "outputId": "ff374b7e-256b-43ca-df71-4b17a7728520"
      },
      "execution_count": 1,
      "outputs": [
        {
          "output_type": "stream",
          "name": "stdout",
          "text": [
            "=== CHƯƠNG TRÌNH MÃ HÓA & GIẢI MÃ SỬ DỤNG MA TRẬN 3x3 ===\n",
            "\n",
            " Ma trận khóa được chọn:\n",
            "[[ 2 -1  0]\n",
            " [ 1  1  1]\n",
            " [ 0 -1  2]]\n",
            "\n",
            " Ma trận khả nghịch (có thể giải mã)\n",
            "\n",
            "Nhập họ tên hoặc mã số sinh viên: Phạm Minh Huy\n",
            "\n",
            " Ma trận ASCII từ chuỗi:\n",
            "[[ 80 104  97]\n",
            " [803 109  32]\n",
            " [ 77 105 110]\n",
            " [104  32  72]\n",
            " [117 121   0]]\n",
            "\n",
            " Kết quả mã hóa:\n",
            "[[ 264  -73  298]\n",
            " [1715 -726  173]\n",
            " [ 259  -82  325]\n",
            " [ 240 -144  176]\n",
            " [ 355    4  121]]\n",
            "\n",
            " Ma trận sau giải mã:\n",
            "[[ 80. 104.  97.]\n",
            " [803. 109.  32.]\n",
            " [ 77. 105. 110.]\n",
            " [104.  32.  72.]\n",
            " [117. 121.   0.]]\n",
            "\n",
            " Chuỗi sau khi giải mã: Phạm Minh Huy\n"
          ]
        }
      ]
    },
    {
      "cell_type": "markdown",
      "source": [
        "Câu 2"
      ],
      "metadata": {
        "id": "m5CM0xFAP_LQ"
      }
    },
    {
      "cell_type": "code",
      "source": [
        "import numpy as np\n",
        "\n",
        "def tinh_p_q(ds_c):\n",
        "    \"\"\"Tính p_n và q_n từ danh sách [c0, c1, ..., cn]\"\"\"\n",
        "    p_prev, p = 1, ds_c[0]\n",
        "    q_prev, q = 0, 1\n",
        "\n",
        "    for i in range(1, len(ds_c)):\n",
        "        p_next = ds_c[i] * p + p_prev\n",
        "        q_next = ds_c[i] * q + q_prev\n",
        "        p_prev, p = p, p_next\n",
        "        q_prev, q = q, q_next\n",
        "\n",
        "    return p, q\n",
        "\n",
        "def kiem_tra_ma_tran(ds_c):\n",
        "    \"\"\"Tính tích các ma trận theo công thức\"\"\"\n",
        "    ket_qua = np.identity(2, dtype=int)\n",
        "\n",
        "    for c in ds_c:\n",
        "        A = np.array([[c, 1], [1, 0]])\n",
        "        ket_qua = np.dot(ket_qua, A)\n",
        "\n",
        "    vec = np.array([[1], [0]])\n",
        "    p_q = np.dot(ket_qua, vec)\n",
        "    return p_q.flatten()\n",
        "\n",
        "ds_8_3 = [2, 1, 2]\n",
        "ds_11_3 = [3, 1, 2]\n",
        "\n",
        "print(\"Phân số 8/3:\")\n",
        "p, q = tinh_p_q(ds_8_3)\n",
        "print(f\"  a. Kết quả tính p_n, q_n = {p}, {q}  {p}/{q}\")\n",
        "ma_tran_ket_qua = kiem_tra_ma_tran(ds_8_3)\n",
        "print(f\"  b. Kiểm tra bằng công thức ma trận: p_n = {ma_tran_ket_qua[0]}, q_n = {ma_tran_ket_qua[1]}\")\n",
        "\n",
        "print(\"\\n Phân số 11/3:\")\n",
        "p, q = tinh_p_q(ds_11_3)\n",
        "print(f\"  a. Kết quả tính p_n, q_n = {p}, {q} {p}/{q}\")\n",
        "ma_tran_ket_qua = kiem_tra_ma_tran(ds_11_3)\n",
        "print(f\"  b. Kiểm tra bằng công thức ma trận: p_n = {ma_tran_ket_qua[0]}, q_n = {ma_tran_ket_qua[1]}\")"
      ],
      "metadata": {
        "id": "xOhUDlGFc-_V",
        "colab": {
          "base_uri": "https://localhost:8080/"
        },
        "outputId": "04db0019-5e3d-46f8-fd79-ba5a7bae8732"
      },
      "execution_count": 2,
      "outputs": [
        {
          "output_type": "stream",
          "name": "stdout",
          "text": [
            "Phân số 8/3:\n",
            "  a. Kết quả tính p_n, q_n = 8, 3  8/3\n",
            "  b. Kiểm tra bằng công thức ma trận: p_n = 8, q_n = 3\n",
            "\n",
            " Phân số 11/3:\n",
            "  a. Kết quả tính p_n, q_n = 11, 3 11/3\n",
            "  b. Kiểm tra bằng công thức ma trận: p_n = 11, q_n = 3\n"
          ]
        }
      ]
    }
  ]
}